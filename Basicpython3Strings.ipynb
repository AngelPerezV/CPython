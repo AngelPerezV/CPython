{
 "cells": [
  {
   "cell_type": "markdown",
   "metadata": {},
   "source": [
    "## Strings en Python "
   ]
  },
  {
   "cell_type": "markdown",
   "metadata": {},
   "source": [
    "# Variable string \n",
    "* String. Cadena ordenada de caracteres.\n",
    "* Una Variable de tipo string es aquella que guarda un string.Cuando queremos que una variable se trate de una variable tipo string, str en python, a la hora de declararla, el contenido de la variable debe ir o bien entre comillas \" \", o bien entre comillas simples ' '. "
   ]
  },
  {
   "cell_type": "code",
   "execution_count": 23,
   "metadata": {},
   "outputs": [
    {
     "data": {
      "text/plain": [
       "str"
      ]
     },
     "execution_count": 23,
     "metadata": {},
     "output_type": "execute_result"
    }
   ],
   "source": [
    "s1 = \"Esto es una variable tipo string con comillas dobles\"\n",
    "type(s1)"
   ]
  },
  {
   "cell_type": "code",
   "execution_count": 24,
   "metadata": {},
   "outputs": [
    {
     "data": {
      "text/plain": [
       "str"
      ]
     },
     "execution_count": 24,
     "metadata": {},
     "output_type": "execute_result"
    }
   ],
   "source": [
    "s2 = 'Esto es un string entre comillas simples'\n",
    "type(s2)"
   ]
  },
  {
   "cell_type": "markdown",
   "metadata": {},
   "source": [
    "# Strings literals \n",
    "* El hecho de que el contenido de las variables de tipo str vaya entre comillas, ya sean simples o dobles, con lleva a que algunos caracteres deban ser tratados de forma especial.\n",
    "* aqui entran en juego los string literals. Algunos de los mas utilizados se muestran abajo: \n",
    "\n",
    "Código  Significado\n",
    "   \n",
    "    \\\\       Backslash, \\\n",
    "\n",
    "    \\'       Comilla simple, '\n",
    "\n",
    "    \\\"       Comilla doble, \"\n",
    "\n",
    "    \\n       Salto de línea\n",
    "\n",
    "    \\t       Tabulación horizontal\n",
    "\n",
    "\n",
    "Mas informacion https://docs.python.org/3.7/reference/lexical_analysis.html#string-and-bytes-literals\n"
   ]
  },
  {
   "cell_type": "markdown",
   "metadata": {},
   "source": [
    "#Ejemplo \n",
    " * si queremos guardar en una variable el siguiente texto:\n",
    "* Alex dijo: \"Me gusta el chocolate\" \n",
    "\n",
    "lo tendremos que hacer del siguiente modo "
   ]
  },
  {
   "cell_type": "code",
   "execution_count": 1,
   "metadata": {},
   "outputs": [
    {
     "data": {
      "text/plain": [
       "' Juan dijo: \" me gusta el chocolate \"'"
      ]
     },
     "execution_count": 1,
     "metadata": {},
     "output_type": "execute_result"
    }
   ],
   "source": [
    "\n",
    "s1= \" Juan dijo: \\\" me gusta el chocolate \\\"\"\n",
    "s1"
   ]
  },
  {
   "cell_type": "code",
   "execution_count": 26,
   "metadata": {},
   "outputs": [
    {
     "data": {
      "text/plain": [
       "'Juan dijo \"me gusta el chocolate\"'"
      ]
     },
     "execution_count": 26,
     "metadata": {},
     "output_type": "execute_result"
    }
   ],
   "source": [
    "s2 = 'Juan dijo \"me gusta el chocolate\"'\n",
    "s2"
   ]
  },
  {
   "cell_type": "markdown",
   "metadata": {},
   "source": [
    "* Nota Si usamos comillas dobles, para guardar la frase de este ejemplo necesitaremos usar strings literals, ya que si no nos saltara error. Sin embargo, si usamos comillas simples, para guardar la frase de este ejemplo en una variable no hace falta que cambiemos nada."
   ]
  },
  {
   "cell_type": "markdown",
   "metadata": {},
   "source": [
    "## Ejemplo 2 \n",
    "* Si queremos guardar en una variable el siguiente texto:\n",
    "* Javier dijo 'Me gusta la playa'\n",
    "* lo tendremos que hacer del siguiente modo  "
   ]
  },
  {
   "cell_type": "code",
   "execution_count": 27,
   "metadata": {},
   "outputs": [
    {
     "data": {
      "text/plain": [
       "\"javier dijo: 'me gusta la playa'\""
      ]
     },
     "execution_count": 27,
     "metadata": {},
     "output_type": "execute_result"
    }
   ],
   "source": [
    "s1 = \"javier dijo: 'me gusta la playa'\"\n",
    "s1"
   ]
  },
  {
   "cell_type": "code",
   "execution_count": 28,
   "metadata": {},
   "outputs": [
    {
     "data": {
      "text/plain": [
       "\"Javier dijo 'me gusta la playa'\""
      ]
     },
     "execution_count": 28,
     "metadata": {},
     "output_type": "execute_result"
    }
   ],
   "source": [
    "s2 = 'Javier dijo \\'me gusta la playa\\''\n",
    "s2"
   ]
  },
  {
   "cell_type": "markdown",
   "metadata": {},
   "source": [
    "* Nota si usamos comillas dobles, para guardar la frase de este ejemplo no necesitaremos usar string literales. Sin embargo, si usamos comillas simples, para guardar la frase de este ejemplo en una variable tendremos que usar string literals, porque si no nos arrojara un error  "
   ]
  },
  {
   "cell_type": "markdown",
   "metadata": {},
   "source": [
    "# Ejemplo 3 \n",
    "* Si queremos guardar en una variable el siguiente texto y que conserve el salto de linea,\n",
    "\n",
    "con diez cañones por banda, \n",
    "\n",
    "viento en popa a toda vela \n",
    "\n",
    "* Lo tendremos que hacer del siguiente modo"
   ]
  },
  {
   "cell_type": "code",
   "execution_count": 29,
   "metadata": {},
   "outputs": [
    {
     "data": {
      "text/plain": [
       "'Con diez cañones por banda, \\nviento en popa a toda vale'"
      ]
     },
     "execution_count": 29,
     "metadata": {},
     "output_type": "execute_result"
    }
   ],
   "source": [
    "s3 = \"Con diez cañones por banda, \\nviento en popa a toda vale\"\n",
    "s3"
   ]
  },
  {
   "cell_type": "markdown",
   "metadata": {},
   "source": [
    "* nota El resultado con el salto de linea aplicado lo veremos cuando hablemos de la funcion print()."
   ]
  },
  {
   "cell_type": "code",
   "execution_count": 30,
   "metadata": {},
   "outputs": [
    {
     "name": "stdout",
     "output_type": "stream",
     "text": [
      "Con diez cañones por banda, \n",
      "viento en popa a toda vale\n"
     ]
    }
   ],
   "source": [
    "print(s3)"
   ]
  },
  {
   "cell_type": "markdown",
   "metadata": {},
   "source": [
    "# Concatenacion de string \n",
    "\n",
    "* La concentracion es una operacion que une dos o mas strings en uno solo.\n",
    "* En python, para cocatenar dos variables de tipo string usamos la funcion +.\n"
   ]
  },
  {
   "cell_type": "code",
   "execution_count": 31,
   "metadata": {},
   "outputs": [
    {
     "data": {
      "text/plain": [
       "'Hola, Angel'"
      ]
     },
     "execution_count": 31,
     "metadata": {},
     "output_type": "execute_result"
    }
   ],
   "source": [
    "s1= \"Hola, \"\n",
    "s2= \"Angel\" \n",
    "s1+s2 "
   ]
  },
  {
   "cell_type": "markdown",
   "metadata": {},
   "source": [
    "* Nota. La concatenacion viene a ser como pegar el final del primer string con el inicio del segundo. Entonces, conviene poner un espacio al final de la primera variable a concatenar, o bien al principio de la segunda para que asi, al realizar la concatenacion, exista ese espacio entre las palabras.\n",
    "\n",
    "* De no añadir espacios adicionales, obtendriamos resultados como el mostrado en el siguiente ejemplo "
   ]
  },
  {
   "cell_type": "code",
   "execution_count": 32,
   "metadata": {},
   "outputs": [
    {
     "data": {
      "text/plain": [
       "' Bienvenidoal curso.'"
      ]
     },
     "execution_count": 32,
     "metadata": {},
     "output_type": "execute_result"
    }
   ],
   "source": [
    "s1 = \" Bienvenido\"\n",
    "s2 = \"al curso.\"\n",
    "s1+s2"
   ]
  },
  {
   "cell_type": "markdown",
   "metadata": {},
   "source": [
    "Si dejamos un espacio adicional al final de string s1, obtendremos:\n"
   ]
  },
  {
   "cell_type": "code",
   "execution_count": 33,
   "metadata": {},
   "outputs": [
    {
     "data": {
      "text/plain": [
       "' Bienvenido al curso.'"
      ]
     },
     "execution_count": 33,
     "metadata": {},
     "output_type": "execute_result"
    }
   ],
   "source": [
    "s1 = \" Bienvenido \"\n",
    "s2 = \"al curso.\"\n",
    "s1+s2"
   ]
  },
  {
   "cell_type": "markdown",
   "metadata": {},
   "source": [
    "o si bien si dejamos un espacio adicional al inicio del string s2 obtendremos "
   ]
  },
  {
   "cell_type": "code",
   "execution_count": 34,
   "metadata": {},
   "outputs": [
    {
     "data": {
      "text/plain": [
       "' Bienvenido al curso.'"
      ]
     },
     "execution_count": 34,
     "metadata": {},
     "output_type": "execute_result"
    }
   ],
   "source": [
    "s1 = \" Bienvenido\"\n",
    "s2 = \" al curso.\"\n",
    "s1+s2"
   ]
  },
  {
   "cell_type": "markdown",
   "metadata": {},
   "source": [
    "de igual manera si dejamos un espacio adicional al final del string s1 y uno al inicio del s2 obtendremos "
   ]
  },
  {
   "cell_type": "code",
   "execution_count": 35,
   "metadata": {},
   "outputs": [
    {
     "data": {
      "text/plain": [
       "'Bienvenido  al curso.'"
      ]
     },
     "execution_count": 35,
     "metadata": {},
     "output_type": "execute_result"
    }
   ],
   "source": [
    "s1 = \"Bienvenido \"\n",
    "s2 = \" al curso.\"\n",
    "s1+s2"
   ]
  },
  {
   "cell_type": "markdown",
   "metadata": {},
   "source": [
    "* Nota si dejamos mas de dos espacios observaremos como se van separando las palabras entre si "
   ]
  },
  {
   "cell_type": "markdown",
   "metadata": {},
   "source": [
    "# Repeticion de strings \n",
    "\n",
    "* La repeticion es una operacion que repite la variable string tantas veces como indiquemos.\n",
    "\n",
    "En python, para repetir una variable de tipo string usamos la funcion *. El orden de los factores no altera el producto. Es decir, tanto da usar la sintaxis mun_repeticiones * variables_str como variables_str * num_repeticiones."
   ]
  },
  {
   "cell_type": "code",
   "execution_count": 36,
   "metadata": {},
   "outputs": [
    {
     "data": {
      "text/plain": [
       "'Falta mucho? Falta mucho? Falta mucho? Falta mucho? Falta mucho? '"
      ]
     },
     "execution_count": 36,
     "metadata": {},
     "output_type": "execute_result"
    }
   ],
   "source": [
    "s1 = \"Falta mucho? \"\n",
    "s1 * 5"
   ]
  },
  {
   "cell_type": "code",
   "execution_count": 37,
   "metadata": {},
   "outputs": [
    {
     "data": {
      "text/plain": [
       "' Hemos llegado ya?  Hemos llegado ya?  Hemos llegado ya?  Hemos llegado ya?  Hemos llegado ya? '"
      ]
     },
     "execution_count": 37,
     "metadata": {},
     "output_type": "execute_result"
    }
   ],
   "source": [
    "s2 = \" Hemos llegado ya? \"\n",
    "5 * s2"
   ]
  },
  {
   "cell_type": "markdown",
   "metadata": {},
   "source": [
    "* Nota al igual que ocurria con la concatenacion, hay que añadir manualmente uno o mas espacios en blanco al principio o al final del string para que las repeticiones no esten pegadas las unas a las otras, tal como ocurre en el siguiente ejemplo:\n"
   ]
  },
  {
   "cell_type": "code",
   "execution_count": 38,
   "metadata": {},
   "outputs": [
    {
     "data": {
      "text/plain": [
       "'Había una vez un barquito chiquititoHabía una vez un barquito chiquitito'"
      ]
     },
     "execution_count": 38,
     "metadata": {},
     "output_type": "execute_result"
    }
   ],
   "source": [
    "s3 = \"Había una vez un barquito chiquitito\"\n",
    "s3 * 2"
   ]
  },
  {
   "cell_type": "markdown",
   "metadata": {},
   "source": [
    "# La funcion print()\n",
    "\n",
    "* Hasta ahora, cada vez que mostrabamos strings por pantalla, estos salian entre comillas simples. La funcion print() nos sirve, entre otras muchas cosas, para mostrar strings por pantalla."
   ]
  },
  {
   "cell_type": "code",
   "execution_count": 39,
   "metadata": {},
   "outputs": [
    {
     "data": {
      "text/plain": [
       "'Hello world'"
      ]
     },
     "execution_count": 39,
     "metadata": {},
     "output_type": "execute_result"
    }
   ],
   "source": [
    "s = \"Hello world\"\n",
    "s"
   ]
  },
  {
   "cell_type": "code",
   "execution_count": 40,
   "metadata": {},
   "outputs": [
    {
     "name": "stdout",
     "output_type": "stream",
     "text": [
      "Hello world\n"
     ]
    }
   ],
   "source": [
    "print(s)"
   ]
  },
  {
   "cell_type": "markdown",
   "metadata": {},
   "source": [
    "* Nota como pudimos observar una de las principales diferencias entre usar la funcion print() o no usarla es que a la hora de mostrar la cadena de caracteres por pantalla, esta no va entre comillas simples y el formato en que se imprime tambien es diferente. La funcion print() puede mostrar el resultado de cualquier variable (numerica o de tipo string)"
   ]
  },
  {
   "cell_type": "code",
   "execution_count": 41,
   "metadata": {},
   "outputs": [
    {
     "name": "stdout",
     "output_type": "stream",
     "text": [
      "Vivo en Mexico\n"
     ]
    }
   ],
   "source": [
    "x = \"Vivo en Mexico\"\n",
    "print(x)"
   ]
  },
  {
   "cell_type": "code",
   "execution_count": 42,
   "metadata": {},
   "outputs": [
    {
     "name": "stdout",
     "output_type": "stream",
     "text": [
      "3.0\n"
     ]
    }
   ],
   "source": [
    "y = 3.0\n",
    "print(y)"
   ]
  },
  {
   "cell_type": "markdown",
   "metadata": {},
   "source": [
    "* De la misma forma que podemos concatenar strings con la funcion +, combinando esta junto con la funcion print() podemos concatenar strings con variables que almacenan strings, ejemplo:\n"
   ]
  },
  {
   "cell_type": "code",
   "execution_count": 43,
   "metadata": {},
   "outputs": [
    {
     "name": "stdout",
     "output_type": "stream",
     "text": [
      " Buenos dias,  Don pepito!\n"
     ]
    }
   ],
   "source": [
    "name = \" Don pepito\"\n",
    "print(\" Buenos dias, \" + name + \"!\" )"
   ]
  },
  {
   "cell_type": "markdown",
   "metadata": {},
   "source": [
    "* Notas: Recuerda introducir un espacio adicional siempre que vayas a cocatenar.\n",
    "* Utilizando la funcion print(), el uso de acentos o de algunos caracteres especiales ? o ! ya no dan problemas a la hora de ejecutar y que se muestren en pantalla\n",
    "* Podemos obtener exactamente el mismo resultado utilizando comas (,) en vez de la funcion +. Eso si, despues de cada coma se añade automaticamente un espacio en blanco que no siempre buscamos, como ocurre a continuacion despues del resultyado de la variable name. "
   ]
  },
  {
   "cell_type": "code",
   "execution_count": 44,
   "metadata": {},
   "outputs": [
    {
     "name": "stdout",
     "output_type": "stream",
     "text": [
      "¡Buenos días, Don Jaimito !\n"
     ]
    }
   ],
   "source": [
    "name = \"Don Jaimito\"\n",
    "print(\"¡Buenos días,\",name,\"!\")"
   ]
  },
  {
   "cell_type": "markdown",
   "metadata": {},
   "source": [
    "* Al igual que podemos repetir un mismo string un numero cualquiera de veces con la funcion *, combinando esta la funcion print() podemos multiplicar un string o variables que contengan strings. "
   ]
  },
  {
   "cell_type": "code",
   "execution_count": 45,
   "metadata": {},
   "outputs": [
    {
     "name": "stdout",
     "output_type": "stream",
     "text": [
      "falta mucho ? falta mucho ? falta mucho ? falta mucho ? falta mucho ? \n"
     ]
    }
   ],
   "source": [
    "print(\"falta mucho ? \" * 5)"
   ]
  },
  {
   "cell_type": "code",
   "execution_count": 46,
   "metadata": {},
   "outputs": [
    {
     "name": "stdout",
     "output_type": "stream",
     "text": [
      "cuantos años tienes ? cuantos años tienes ? cuantos años tienes ? cuantos años tienes ? cuantos años tienes ? \n"
     ]
    }
   ],
   "source": [
    "pregunta = \"cuantos años tienes ? \"\n",
    "print( pregunta * 5)\n"
   ]
  },
  {
   "cell_type": "markdown",
   "metadata": {},
   "source": [
    "## Ejercicio\n",
    "* Vamos a combinar concatenacion con repeticion de strings para reproducir la cancion \"Cumpleaños feliz\""
   ]
  },
  {
   "cell_type": "code",
   "execution_count": 47,
   "metadata": {},
   "outputs": [
    {
     "name": "stdout",
     "output_type": "stream",
     "text": [
      "Cumpleaños Feliz! \n",
      "Cumpleaños Feliz! \n",
      "Te desamos a ti ,\n",
      "Cumpleaños Feliz! \n"
     ]
    }
   ],
   "source": [
    "frase = \"Cumpleaños Feliz! \"\n",
    "frase2 = \"Te desamos a ti \" \n",
    "song = ( frase + \"\\n\") *2 + frase2 + \",\\n\" + frase\n",
    "print(song)"
   ]
  },
  {
   "cell_type": "markdown",
   "metadata": {},
   "source": [
    "## La funcion STR()\n",
    "* Con la funcion str(), podemos cocatenar strings y variables de cualquier tipo dentro de un print():"
   ]
  },
  {
   "cell_type": "code",
   "execution_count": 48,
   "metadata": {},
   "outputs": [
    {
     "name": "stdout",
     "output_type": "stream",
     "text": [
      "Mi hermana se llama Sofia y su edad es 22\n"
     ]
    }
   ],
   "source": [
    "nombre = \"Sofia\"\n",
    "edad = 22\n",
    "print(\"Mi hermana se llama \" + nombre + \" y su edad es \" + str(edad))"
   ]
  },
  {
   "cell_type": "markdown",
   "metadata": {},
   "source": [
    "## El metodo .format() \n",
    "* Existe otra forma de concatenar strings y variables de cualquier tipo dentro de un print() y es gracias al metodo .format(). Lo que hay que hacer es indicar con llaves, { }, donde queremos situar el resultado de las variable y luego, dentro de los parentesis del metodo .format(), indicar las variables en su respectivo orden."
   ]
  },
  {
   "cell_type": "code",
   "execution_count": 49,
   "metadata": {},
   "outputs": [
    {
     "name": "stdout",
     "output_type": "stream",
     "text": [
      "Yo me llamo Angel y tengo 5 perros \n"
     ]
    }
   ],
   "source": [
    "nombre = \"Angel\"\n",
    "numero_perros = 5 \n",
    "print( \"Yo me llamo {} y tengo {} perros \" .format(nombre,numero_perros))"
   ]
  },
  {
   "cell_type": "code",
   "execution_count": 50,
   "metadata": {},
   "outputs": [
    {
     "name": "stdout",
     "output_type": "stream",
     "text": [
      " Yo me llamo Angel y tengo 5 perros\n"
     ]
    }
   ],
   "source": [
    "# otra forma de utilizar el format es \n",
    "print(f\" Yo me llamo {nombre} y tengo {numero_perros} perros\")"
   ]
  },
  {
   "cell_type": "markdown",
   "metadata": {},
   "source": [
    "## Salto de lineas y tabulaciones\n",
    "* Colocaremos a una variable un salto de linea "
   ]
  },
  {
   "cell_type": "code",
   "execution_count": 51,
   "metadata": {},
   "outputs": [
    {
     "name": "stdout",
     "output_type": "stream",
     "text": [
      " Con diez pesos por persona, \n",
      " armamos la cena\n"
     ]
    }
   ],
   "source": [
    "s3= \" Con diez pesos por persona, \\n armamos la cena\"\n",
    "print(s3)"
   ]
  },
  {
   "cell_type": "code",
   "execution_count": 52,
   "metadata": {},
   "outputs": [
    {
     "data": {
      "text/plain": [
       "' La string literal \\\\t producía \\t una tabulación horizontal'"
      ]
     },
     "execution_count": 52,
     "metadata": {},
     "output_type": "execute_result"
    }
   ],
   "source": [
    "#Lo mismo ocurre con la tabulacion horizontal \n",
    "s4= \" La string literal \\\\t producía \\t una tabulación horizontal\"\n",
    "s4"
   ]
  },
  {
   "cell_type": "code",
   "execution_count": 53,
   "metadata": {},
   "outputs": [
    {
     "name": "stdout",
     "output_type": "stream",
     "text": [
      " La string literal \\t producía \t una tabulación horizontal\n"
     ]
    }
   ],
   "source": [
    "print(s4)"
   ]
  },
  {
   "cell_type": "markdown",
   "metadata": {},
   "source": [
    "## Subs Strings \n",
    "* para acceder a un caracter de una variable string usamos la sintaxis de []\n"
   ]
  },
  {
   "cell_type": "code",
   "execution_count": 54,
   "metadata": {},
   "outputs": [],
   "source": [
    "s = \"Soy fan de su sonrisa\""
   ]
  },
  {
   "cell_type": "code",
   "execution_count": 55,
   "metadata": {},
   "outputs": [
    {
     "data": {
      "text/plain": [
       "'S'"
      ]
     },
     "execution_count": 55,
     "metadata": {},
     "output_type": "execute_result"
    }
   ],
   "source": [
    "s[0] #primer caracter "
   ]
  },
  {
   "cell_type": "code",
   "execution_count": 56,
   "metadata": {},
   "outputs": [
    {
     "data": {
      "text/plain": [
       "'a'"
      ]
     },
     "execution_count": 56,
     "metadata": {},
     "output_type": "execute_result"
    }
   ],
   "source": [
    "s[5] #Sexto caracter \n",
    "#Recordemos de eso es un arreglo de caractertes por lo cual la 'S' en la oracion es la pocision 0 y asi sucesivamente"
   ]
  },
  {
   "cell_type": "markdown",
   "metadata": {},
   "source": [
    "* como se menciono arrba en Python, los indices siempre empienzan en 0\n",
    "* si procedemos de un indice negativo, entonces empezamos desde el final"
   ]
  },
  {
   "cell_type": "code",
   "execution_count": 57,
   "metadata": {},
   "outputs": [
    {
     "data": {
      "text/plain": [
       "'a'"
      ]
     },
     "execution_count": 57,
     "metadata": {},
     "output_type": "execute_result"
    }
   ],
   "source": [
    "s[-1]# Ultimo Elemento "
   ]
  },
  {
   "cell_type": "code",
   "execution_count": 58,
   "metadata": {},
   "outputs": [
    {
     "data": {
      "text/plain": [
       "'s'"
      ]
     },
     "execution_count": 58,
     "metadata": {},
     "output_type": "execute_result"
    }
   ],
   "source": [
    "s[-7] #el septimo elemento empezando por el final "
   ]
  },
  {
   "cell_type": "markdown",
   "metadata": {},
   "source": [
    "* Si queremos acceder a varios caracteres seguidos, podemos utilizar la funcion :"
   ]
  },
  {
   "cell_type": "code",
   "execution_count": 59,
   "metadata": {},
   "outputs": [
    {
     "data": {
      "text/plain": [
       "'fan'"
      ]
     },
     "execution_count": 59,
     "metadata": {},
     "output_type": "execute_result"
    }
   ],
   "source": [
    "s[4:7]# Del quinto al septimo "
   ]
  },
  {
   "cell_type": "code",
   "execution_count": 60,
   "metadata": {},
   "outputs": [
    {
     "data": {
      "text/plain": [
       "'de su sonrisa'"
      ]
     },
     "execution_count": 60,
     "metadata": {},
     "output_type": "execute_result"
    }
   ],
   "source": [
    "s[8:] #Del noveno al final"
   ]
  },
  {
   "cell_type": "markdown",
   "metadata": {},
   "source": [
    "* Nota en Python, siempre que usamos la funcion :, el indice que se encuentra a la derecha nunca es incluido, tal y como hemos visto en los ejemplos anteriores.\n",
    "* Si precedemos por - al indice de la izquierda de : y no ponemos ninguno a su derecha, lo que hacemos es obtener los ultimos elementos"
   ]
  },
  {
   "cell_type": "code",
   "execution_count": 61,
   "metadata": {},
   "outputs": [
    {
     "data": {
      "text/plain": [
       "'su sonrisa'"
      ]
     },
     "execution_count": 61,
     "metadata": {},
     "output_type": "execute_result"
    }
   ],
   "source": [
    "s[-10:] #Diez ultimos elementos"
   ]
  },
  {
   "cell_type": "markdown",
   "metadata": {},
   "source": [
    "* Si al contrario, precedemos por - al indice de la derecha, sin poner ningun indice a la izquierda de :, obtendremos todos los elementos  salvo el numero de elementos indicados por el indice(recordemos que si precedimos por -, los indices empezaban al final)"
   ]
  },
  {
   "cell_type": "code",
   "execution_count": 62,
   "metadata": {},
   "outputs": [
    {
     "data": {
      "text/plain": [
       "'Soy fan de '"
      ]
     },
     "execution_count": 62,
     "metadata": {},
     "output_type": "execute_result"
    }
   ],
   "source": [
    "s[:-10]"
   ]
  },
  {
   "cell_type": "markdown",
   "metadata": {},
   "source": [
    "# Metodos para trabajar con strings \n",
    "* El metodo .lower() nos trasforma el string que indiquemos a minusculas."
   ]
  },
  {
   "cell_type": "code",
   "execution_count": 63,
   "metadata": {},
   "outputs": [
    {
     "data": {
      "text/plain": [
       "'me encantan las galletas de chocolate'"
      ]
     },
     "execution_count": 63,
     "metadata": {},
     "output_type": "execute_result"
    }
   ],
   "source": [
    "s = \"Me Encantan las galletas de CHOCOLATE\"\n",
    "s.lower()"
   ]
  },
  {
   "cell_type": "markdown",
   "metadata": {},
   "source": [
    "* El metodo .upper(), por el contrario, lo trasforma a mayusculas."
   ]
  },
  {
   "cell_type": "code",
   "execution_count": 64,
   "metadata": {},
   "outputs": [
    {
     "data": {
      "text/plain": [
       "'ME ENCANTAN LAS GALLETAS DE CHOCOLATE'"
      ]
     },
     "execution_count": 64,
     "metadata": {},
     "output_type": "execute_result"
    }
   ],
   "source": [
    "s.upper()"
   ]
  },
  {
   "cell_type": "markdown",
   "metadata": {},
   "source": [
    "El metodo .count()  cuenta cuantas veces aparece una letra o un string dentro del string al cual le aplicamos dicho metodo."
   ]
  },
  {
   "cell_type": "code",
   "execution_count": 65,
   "metadata": {},
   "outputs": [
    {
     "data": {
      "text/plain": [
       "2"
      ]
     },
     "execution_count": 65,
     "metadata": {},
     "output_type": "execute_result"
    }
   ],
   "source": [
    "s.count(\"O\")"
   ]
  },
  {
   "cell_type": "code",
   "execution_count": 66,
   "metadata": {},
   "outputs": [
    {
     "data": {
      "text/plain": [
       "1"
      ]
     },
     "execution_count": 66,
     "metadata": {},
     "output_type": "execute_result"
    }
   ],
   "source": [
    "s.count(\"la\")"
   ]
  },
  {
   "cell_type": "markdown",
   "metadata": {},
   "source": [
    "* El metodo .capitalize() convierte a mayusculas el primer caracter de un string "
   ]
  },
  {
   "cell_type": "code",
   "execution_count": 67,
   "metadata": {},
   "outputs": [
    {
     "data": {
      "text/plain": [
       "'Me encanta aprender python'"
      ]
     },
     "execution_count": 67,
     "metadata": {},
     "output_type": "execute_result"
    }
   ],
   "source": [
    "s = \"me encanta aprender python\"\n",
    "s.capitalize()"
   ]
  },
  {
   "cell_type": "markdown",
   "metadata": {},
   "source": [
    "* El metodo .title() comvierte a mayuscula el primer caracter de cada palabra de un string "
   ]
  },
  {
   "cell_type": "code",
   "execution_count": 68,
   "metadata": {},
   "outputs": [
    {
     "data": {
      "text/plain": [
       "'Me Encanta Aprender Python'"
      ]
     },
     "execution_count": 68,
     "metadata": {},
     "output_type": "execute_result"
    }
   ],
   "source": [
    "s.title()"
   ]
  },
  {
   "cell_type": "markdown",
   "metadata": {},
   "source": [
    "* El metodo .swapcase() convierte a mayuscula las minusculas y viceversa "
   ]
  },
  {
   "cell_type": "code",
   "execution_count": 69,
   "metadata": {},
   "outputs": [
    {
     "data": {
      "text/plain": [
       "'mE encanta APRENDER pYTHON'"
      ]
     },
     "execution_count": 69,
     "metadata": {},
     "output_type": "execute_result"
    }
   ],
   "source": [
    "s = \"Me ENCANTA aprender Python\"\n",
    "s.swapcase()"
   ]
  },
  {
   "cell_type": "markdown",
   "metadata": {},
   "source": [
    "* El metodo .replace() reemplaza el caracter (o caracteres) que le indiquemos por el string que queremos.\n"
   ]
  },
  {
   "cell_type": "code",
   "execution_count": 70,
   "metadata": {},
   "outputs": [
    {
     "data": {
      "text/plain": [
       "'Los mopolios son malos '"
      ]
     },
     "execution_count": 70,
     "metadata": {},
     "output_type": "execute_result"
    }
   ],
   "source": [
    "s = \"Los mopolios son buenos \"\n",
    "s.replace(\"buenos\", \"malos\")"
   ]
  },
  {
   "cell_type": "markdown",
   "metadata": {},
   "source": [
    "* El metodo .split() rompe el string en el caracter que le indiquemos y elimina dicho caracter"
   ]
  },
  {
   "cell_type": "code",
   "execution_count": 71,
   "metadata": {},
   "outputs": [
    {
     "data": {
      "text/plain": [
       "[' El raton ', 's un animal muy p', 'qu', 'ño']"
      ]
     },
     "execution_count": 71,
     "metadata": {},
     "output_type": "execute_result"
    }
   ],
   "source": [
    "s = \" El raton es un animal muy pequeño\"\n",
    "s.split(\"e\")#Rompemos por la letra e minuscula"
   ]
  },
  {
   "cell_type": "code",
   "execution_count": 72,
   "metadata": {},
   "outputs": [
    {
     "data": {
      "text/plain": [
       "['', 'El', 'raton', 'es', 'un', 'animal', 'muy', 'pequeño']"
      ]
     },
     "execution_count": 72,
     "metadata": {},
     "output_type": "execute_result"
    }
   ],
   "source": [
    "s.split(\" \")#Rompemos por los espacios"
   ]
  },
  {
   "cell_type": "code",
   "execution_count": 73,
   "metadata": {},
   "outputs": [
    {
     "data": {
      "text/plain": [
       "[' El raton es un ', ' muy pequeño']"
      ]
     },
     "execution_count": 73,
     "metadata": {},
     "output_type": "execute_result"
    }
   ],
   "source": [
    "s.split(\"animal\")#Rompemos por la palabra animal"
   ]
  },
  {
   "cell_type": "markdown",
   "metadata": {},
   "source": [
    "* El metodo .strip() elimina los espacios sobrantes a principio y final del string."
   ]
  },
  {
   "cell_type": "code",
   "execution_count": 74,
   "metadata": {},
   "outputs": [
    {
     "data": {
      "text/plain": [
       "'El raton es un animal muy pequeño'"
      ]
     },
     "execution_count": 74,
     "metadata": {},
     "output_type": "execute_result"
    }
   ],
   "source": [
    "s = \"    El raton es un animal muy pequeño     \"\n",
    "s.strip()"
   ]
  },
  {
   "cell_type": "markdown",
   "metadata": {},
   "source": [
    "* El metodo .rstrip() elimina los espacios sobrantes al final del string "
   ]
  },
  {
   "cell_type": "code",
   "execution_count": 75,
   "metadata": {},
   "outputs": [
    {
     "data": {
      "text/plain": [
       "'    El raton es un animal muy pequeño'"
      ]
     },
     "execution_count": 75,
     "metadata": {},
     "output_type": "execute_result"
    }
   ],
   "source": [
    "s.rstrip()"
   ]
  },
  {
   "cell_type": "markdown",
   "metadata": {},
   "source": [
    "* El metodo .lstrip() elimina los espacios sobrantes al principio del string."
   ]
  },
  {
   "cell_type": "code",
   "execution_count": 76,
   "metadata": {},
   "outputs": [
    {
     "data": {
      "text/plain": [
       "'El raton es un animal muy pequeño     '"
      ]
     },
     "execution_count": 76,
     "metadata": {},
     "output_type": "execute_result"
    }
   ],
   "source": [
    "s.lstrip()"
   ]
  },
  {
   "cell_type": "markdown",
   "metadata": {},
   "source": [
    "* El metodo .find() busca el caracter que indiquemos y nos devuelve la primera posicion en la que aparece"
   ]
  },
  {
   "cell_type": "code",
   "execution_count": 77,
   "metadata": {},
   "outputs": [
    {
     "data": {
      "text/plain": [
       "3"
      ]
     },
     "execution_count": 77,
     "metadata": {},
     "output_type": "execute_result"
    }
   ],
   "source": [
    "s = \"Este es un curso de python para hacer en casa o en cualquier lado\"\n",
    "s.find(\"e\")"
   ]
  },
  {
   "cell_type": "markdown",
   "metadata": {},
   "source": [
    "* Si le pedimos buscar un conjunto de caracteres, nos devuelve la posicion del primer caracter de dicho conjunto "
   ]
  },
  {
   "cell_type": "code",
   "execution_count": 78,
   "metadata": {},
   "outputs": [
    {
     "data": {
      "text/plain": [
       "41"
      ]
     },
     "execution_count": 78,
     "metadata": {},
     "output_type": "execute_result"
    }
   ],
   "source": [
    "s.find(\"casa\")"
   ]
  },
  {
   "cell_type": "code",
   "execution_count": 79,
   "metadata": {},
   "outputs": [
    {
     "data": {
      "text/plain": [
       "'casa'"
      ]
     },
     "execution_count": 79,
     "metadata": {},
     "output_type": "execute_result"
    }
   ],
   "source": [
    "s[41:45]"
   ]
  },
  {
   "cell_type": "markdown",
   "metadata": {},
   "source": [
    "* El metodo .find() tiene otros dos parametros de uso opcional: start y end, que sirven para indicar dode queremos que empiece la busqueda y donde queremos que acabe \n"
   ]
  },
  {
   "cell_type": "code",
   "execution_count": 80,
   "metadata": {},
   "outputs": [
    {
     "data": {
      "text/plain": [
       "18"
      ]
     },
     "execution_count": 80,
     "metadata": {},
     "output_type": "execute_result"
    }
   ],
   "source": [
    "s.find(\"e\", 10) #Solamente indicamos start "
   ]
  },
  {
   "cell_type": "code",
   "execution_count": 81,
   "metadata": {},
   "outputs": [
    {
     "data": {
      "text/plain": [
       "35"
      ]
     },
     "execution_count": 81,
     "metadata": {},
     "output_type": "execute_result"
    }
   ],
   "source": [
    "s.find( \"e\",30, 40) #indicamos start y end "
   ]
  },
  {
   "cell_type": "markdown",
   "metadata": {},
   "source": [
    "* El metodo .index() busca el caracter que indiquemos y nos devuelve la primera posicion en la que aparece"
   ]
  },
  {
   "cell_type": "code",
   "execution_count": 82,
   "metadata": {},
   "outputs": [
    {
     "data": {
      "text/plain": [
       "3"
      ]
     },
     "execution_count": 82,
     "metadata": {},
     "output_type": "execute_result"
    }
   ],
   "source": [
    "s= \"Este es un curso de python para hacer en casa o en cualquier lado\"\n",
    "s.index(\"e\")"
   ]
  },
  {
   "cell_type": "markdown",
   "metadata": {},
   "source": [
    "* si le pedimos buscar buscar un conjunto de caracteres, nos devuelve la posicion del primer caracter de dicho conjunto "
   ]
  },
  {
   "cell_type": "code",
   "execution_count": 83,
   "metadata": {},
   "outputs": [
    {
     "data": {
      "text/plain": [
       "41"
      ]
     },
     "execution_count": 83,
     "metadata": {},
     "output_type": "execute_result"
    }
   ],
   "source": [
    "s.index(\"casa\") "
   ]
  },
  {
   "cell_type": "markdown",
   "metadata": {},
   "source": [
    "* El metodo .index() tiene otros dos parametros de uso opcional start y end, que sirven para indicar donde queremos que empiece la busqueda y donde queremos que acabe. "
   ]
  },
  {
   "cell_type": "code",
   "execution_count": 84,
   "metadata": {},
   "outputs": [
    {
     "data": {
      "text/plain": [
       "18"
      ]
     },
     "execution_count": 84,
     "metadata": {},
     "output_type": "execute_result"
    }
   ],
   "source": [
    "s.index(\"e\", 10) #Solamente indicamos start"
   ]
  },
  {
   "cell_type": "code",
   "execution_count": 85,
   "metadata": {},
   "outputs": [
    {
     "data": {
      "text/plain": [
       "35"
      ]
     },
     "execution_count": 85,
     "metadata": {},
     "output_type": "execute_result"
    }
   ],
   "source": [
    "s.index(\"e\", 30, 40 ) #Solamente indicamos start"
   ]
  },
  {
   "cell_type": "markdown",
   "metadata": {},
   "source": [
    "* Nota observemos que los metodos .index() y .find() son casi identicos. El unico punto en que difieren es que si el caracter indicado no se encuentra en el string, el metodo .index() arroja un error, mientyras que .find() arroja el indice -1.\n",
    "\n",
    "* El metodo .rindex() busca el caracter que indiquemos y devuelve el ultimo en que fue encontrado "
   ]
  },
  {
   "cell_type": "code",
   "execution_count": 86,
   "metadata": {},
   "outputs": [
    {
     "data": {
      "text/plain": [
       "58"
      ]
     },
     "execution_count": 86,
     "metadata": {},
     "output_type": "execute_result"
    }
   ],
   "source": [
    "s.rindex(\"e\")"
   ]
  },
  {
   "cell_type": "markdown",
   "metadata": {},
   "source": [
    "* la funcion rindex , tambien consta de uso opcional de start y end, que sirve para indicar donde queremos que empiece la busqueda y donde queremos que acabe."
   ]
  },
  {
   "cell_type": "markdown",
   "metadata": {},
   "source": [
    "# Otras funciones a tener en cuenta \n",
    "* La funcion len() nos devuelve el numero de caracter del string"
   ]
  },
  {
   "cell_type": "code",
   "execution_count": 87,
   "metadata": {},
   "outputs": [
    {
     "data": {
      "text/plain": [
       "12"
      ]
     },
     "execution_count": 87,
     "metadata": {},
     "output_type": "execute_result"
    }
   ],
   "source": [
    "s = \"Tengo Hambre\"\n",
    "len(s)  #Longitud de la cadena"
   ]
  },
  {
   "cell_type": "markdown",
   "metadata": {},
   "source": [
    "* Si tenemos un numero en formato string, por mucho que sea un numero para nosotros, en realidad Python no lo ve asi. El gran problema es cuando queremos operar con un numero que se encuentra en formato string.Ahi es donde entran en juego las funciones  int() y float(), que lo que hacen es convertir a formato integer o float, respectivamente."
   ]
  },
  {
   "cell_type": "code",
   "execution_count": 88,
   "metadata": {},
   "outputs": [
    {
     "data": {
      "text/plain": [
       "str"
      ]
     },
     "execution_count": 88,
     "metadata": {},
     "output_type": "execute_result"
    }
   ],
   "source": [
    "numero = \"20\"\n",
    "type(numero)"
   ]
  },
  {
   "cell_type": "markdown",
   "metadata": {},
   "source": [
    "* En este caso pasamos a formato integer "
   ]
  },
  {
   "cell_type": "code",
   "execution_count": 89,
   "metadata": {},
   "outputs": [
    {
     "data": {
      "text/plain": [
       "20"
      ]
     },
     "execution_count": 89,
     "metadata": {},
     "output_type": "execute_result"
    }
   ],
   "source": [
    "numero_int = int(numero)\n",
    "numero_int"
   ]
  },
  {
   "cell_type": "code",
   "execution_count": 90,
   "metadata": {},
   "outputs": [
    {
     "data": {
      "text/plain": [
       "400"
      ]
     },
     "execution_count": 90,
     "metadata": {},
     "output_type": "execute_result"
    }
   ],
   "source": [
    "numero_int ** 2"
   ]
  },
  {
   "cell_type": "code",
   "execution_count": 91,
   "metadata": {},
   "outputs": [
    {
     "data": {
      "text/plain": [
       "int"
      ]
     },
     "execution_count": 91,
     "metadata": {},
     "output_type": "execute_result"
    }
   ],
   "source": [
    "type(numero_int)"
   ]
  },
  {
   "cell_type": "markdown",
   "metadata": {},
   "source": [
    "* En este caso aplicamos otro xaso, pasamos a formato float "
   ]
  },
  {
   "cell_type": "code",
   "execution_count": 92,
   "metadata": {},
   "outputs": [
    {
     "data": {
      "text/plain": [
       "20.0"
      ]
     },
     "execution_count": 92,
     "metadata": {},
     "output_type": "execute_result"
    }
   ],
   "source": [
    "numero_float = float(numero)    \n",
    "numero_float"
   ]
  },
  {
   "cell_type": "code",
   "execution_count": 93,
   "metadata": {},
   "outputs": [
    {
     "data": {
      "text/plain": [
       "380.0"
      ]
     },
     "execution_count": 93,
     "metadata": {},
     "output_type": "execute_result"
    }
   ],
   "source": [
    "numero_float ** 2 - numero_float"
   ]
  },
  {
   "cell_type": "code",
   "execution_count": 94,
   "metadata": {},
   "outputs": [
    {
     "data": {
      "text/plain": [
       "float"
      ]
     },
     "execution_count": 94,
     "metadata": {},
     "output_type": "execute_result"
    }
   ],
   "source": [
    "type(numero_float)"
   ]
  },
  {
   "cell_type": "markdown",
   "metadata": {},
   "source": [
    "* la funcion input() sirve para que el usuario ntroduzca una string por consola "
   ]
  },
  {
   "cell_type": "code",
   "execution_count": 10,
   "metadata": {},
   "outputs": [
    {
     "name": "stdout",
     "output_type": "stream",
     "text": [
      "Introduce tu nombre\n"
     ]
    }
   ],
   "source": [
    "print (\"Introduce tu nombre\")\n",
    "name = input()\n"
   ]
  },
  {
   "cell_type": "code",
   "execution_count": 5,
   "metadata": {},
   "outputs": [
    {
     "data": {
      "text/plain": [
       "'Angel '"
      ]
     },
     "execution_count": 5,
     "metadata": {},
     "output_type": "execute_result"
    }
   ],
   "source": [
    "name"
   ]
  },
  {
   "cell_type": "code",
   "execution_count": 6,
   "metadata": {},
   "outputs": [
    {
     "name": "stdout",
     "output_type": "stream",
     "text": [
      "Introduce tu edad\n"
     ]
    }
   ],
   "source": [
    "print (\"Introduce tu edad\")\n",
    "age = int(input())"
   ]
  },
  {
   "cell_type": "code",
   "execution_count": 12,
   "metadata": {},
   "outputs": [
    {
     "name": "stdout",
     "output_type": "stream",
     "text": [
      "Introduce tu altura\n"
     ]
    }
   ],
   "source": [
    "print (\"Introduce tu altura\")\n",
    "height = float(input( \"altura en m: \"))"
   ]
  },
  {
   "cell_type": "code",
   "execution_count": 13,
   "metadata": {},
   "outputs": [
    {
     "name": "stdout",
     "output_type": "stream",
     "text": [
      "Hola Angel tienes 18 años y mides 1.7 metros\n"
     ]
    }
   ],
   "source": [
    "print (f\"Hola {name} tienes {age} años y mides {height} metros\")"
   ]
  },
  {
   "cell_type": "markdown",
   "metadata": {},
   "source": [
    "# Ejercicio  \n",
    "* Dado un string, vamos a pedir al usuario que introduzca una palabra perteneciente a dicho string y vamos a obtener el substring sin la palabra indicada por el usuario utilizando el método .find() y la función len()"
   ]
  },
  {
   "cell_type": "code",
   "execution_count": 65,
   "metadata": {},
   "outputs": [
    {
     "name": "stdout",
     "output_type": "stream",
     "text": [
      "Es es el string original: El camino esta cerrado pero seguro que podemos llegar\n"
     ]
    }
   ],
   "source": [
    "string = \"El camino esta cerrado pero seguro que podemos llegar\"\n",
    "print(\"Es es el string original: \" , end = \"\")\n",
    "print(string)\n"
   ]
  },
  {
   "cell_type": "code",
   "execution_count": 66,
   "metadata": {},
   "outputs": [
    {
     "name": "stdout",
     "output_type": "stream",
     "text": [
      "Introduce la palabra que quieres eliminar del string original:\n"
     ]
    }
   ],
   "source": [
    "print(\"Introduce la palabra que quieres eliminar del string original:\")\n",
    "word = input(\"Palabra \")"
   ]
  },
  {
   "cell_type": "code",
   "execution_count": 62,
   "metadata": {},
   "outputs": [
    {
     "name": "stdout",
     "output_type": "stream",
     "text": [
      "El esta cerrado pero seguro que podemos llegar\n"
     ]
    }
   ],
   "source": [
    "idx = string.find(word)# busca la palabra en el string que le pasamos como usuario\n",
    "substring = string[:idx] + string[(idx + len(word) + 1):]\n",
    "print(substring)"
   ]
  },
  {
   "cell_type": "code",
   "execution_count": 74,
   "metadata": {},
   "outputs": [
    {
     "name": "stdout",
     "output_type": "stream",
     "text": [
      "camino \n"
     ]
    }
   ],
   "source": [
    "idx = string.find(word)\n",
    "sub2 = string[3:idx + len(word) + 1 :]\n",
    "print(sub2)"
   ]
  },
  {
   "cell_type": "code",
   "execution_count": 68,
   "metadata": {},
   "outputs": [
    {
     "name": "stdout",
     "output_type": "stream",
     "text": [
      "El esta cerrado pero seguro que podemos llegar\n"
     ]
    }
   ],
   "source": [
    "print(substring)"
   ]
  },
  {
   "cell_type": "markdown",
   "metadata": {},
   "source": [
    "## Ejercicio 2 \n",
    "* Vamos aprovechar el ejercicio *cumpleaños feliz* y vamos a permitir al usuario a quien va dirigida la cancion"
   ]
  },
  {
   "cell_type": "code",
   "execution_count": 4,
   "metadata": {},
   "outputs": [
    {
     "name": "stdout",
     "output_type": "stream",
     "text": [
      "indica el destinatario de la cancion\n",
      "Cumpleaños Feliz!\n",
      "Cumpleaños Feliz!\n",
      "Te desamos Angel,\n",
      "Cumpleaños Feliz!\n"
     ]
    }
   ],
   "source": [
    "print(\"indica el destinatario de la cancion\")\n",
    "name = input()\n",
    "s1 = \"Cumpleaños Feliz!\"\n",
    "s2 = \"Te desamos a ti\"\n",
    "\n",
    "song = (s1 + \"\\n\") * 2 + s2.replace(\"a ti\",name) + \",\\n\" + s1\n",
    "print(song)"
   ]
  },
  {
   "cell_type": "code",
   "execution_count": 5,
   "metadata": {},
   "outputs": [
    {
     "name": "stdout",
     "output_type": "stream",
     "text": [
      "indica el destinatario de la cancion\n",
      "Cumpleaños Feliz!\n",
      "Cumpleaños Feliz!\n",
      "Te desamos Angel,\n",
      "Cumpleaños Feliz!\n"
     ]
    }
   ],
   "source": [
    "print(\"indica el destinatario de la cancion\")\n",
    "name = input()\n",
    "s1 = \"Cumpleaños Feliz!\"\n",
    "s2 = \"Te desamos \"\n",
    "\n",
    "song = (s1 + \"\\n\") * 2 + s2 + name +  \",\\n\" + s1\n",
    "print(song)"
   ]
  },
  {
   "cell_type": "markdown",
   "metadata": {},
   "source": [
    "## Ejercicio 3 \n",
    "* Vamos a pedirle al usuario palabras o frases y le vamos a devolver el mismo string modificado con algunos de los metodos aprendidos segun indique:\n",
    "* Devolver la palabra empezando en mayuscula \n",
    "* Devolver la palabra ( con todas las letras en minuscula salvo la tercera)\n",
    "* Decolver la palabra con todas las letras mayusculas salvo la primera y la ultima \n",
    "* Devolver la frase donde cada vez que aparezcan las dos primeras letras de la primera palabra, sean subtituiadas por cualesquiera otras dos letras"
   ]
  },
  {
   "cell_type": "markdown",
   "metadata": {},
   "source": [
    "## Resolucion del punto uno "
   ]
  },
  {
   "cell_type": "code",
   "execution_count": 6,
   "metadata": {},
   "outputs": [
    {
     "name": "stdout",
     "output_type": "stream",
     "text": [
      "introduce una palabra y yo te la devuelvo en mayuscula\n",
      "ARBOL\n"
     ]
    }
   ],
   "source": [
    "print(\"introduce una palabra y yo te la devuelvo en mayuscula\")\n",
    "word = input()\n",
    "print(word.upper())"
   ]
  },
  {
   "cell_type": "markdown",
   "metadata": {},
   "source": [
    "## Resolucion del punto dos"
   ]
  },
  {
   "cell_type": "code",
   "execution_count": 7,
   "metadata": {},
   "outputs": [
    {
     "name": "stdout",
     "output_type": "stream",
     "text": [
      "introduce una frase  y yo te la devuelvo todas las palabras empezando en mayuscula\n",
      "El Perro Corre Muy Rapido\n"
     ]
    }
   ],
   "source": [
    "print(\"introduce una frase  y yo te la devuelvo todas las palabras empezando en mayuscula\")\n",
    "a = input()\n",
    "print(a.title())"
   ]
  },
  {
   "cell_type": "markdown",
   "metadata": {},
   "source": [
    "## Resolucion del punto 3 "
   ]
  },
  {
   "cell_type": "code",
   "execution_count": 9,
   "metadata": {},
   "outputs": [
    {
     "name": "stdout",
     "output_type": "stream",
     "text": [
      "introduce una palabra con 3 letras o mas y yo te devuelvo todas sus letras en minusculas salvo la tercera \n",
      "geLatina \n"
     ]
    }
   ],
   "source": [
    "print(\"introduce una palabra con 3 letras o mas y yo te devuelvo todas sus letras en minusculas salvo la tercera \")\n",
    "word = input()\n",
    "word = word[:2].lower() + word[2].upper() + word[3:].lower()\n",
    "print(word)"
   ]
  },
  {
   "cell_type": "markdown",
   "metadata": {},
   "source": [
    "## Resolucion del punto 4\n"
   ]
  },
  {
   "cell_type": "code",
   "execution_count": 12,
   "metadata": {},
   "outputs": [
    {
     "name": "stdout",
     "output_type": "stream",
     "text": [
      "introduce una palabra y yo te devuelvo la palabra con todas las letras mayusculas salvo la primera y la ultima \n",
      "gATOo\n",
      "gATOo\n"
     ]
    }
   ],
   "source": [
    "print(\"introduce una palabra y yo te devuelvo la palabra con todas las letras mayusculas salvo la primera y la ultima \")\n",
    "word = input()\n",
    "word = word[0].lower() + word[1:].upper() + word[-1].lower()#foma uno \n",
    "word2 = word[0].lower() + word[1:(len(word)-1)].upper()+ word[-1].lower() #forma dos\n",
    "print(word)\n",
    "print(word2)"
   ]
  },
  {
   "cell_type": "markdown",
   "metadata": {},
   "source": [
    "## Resolucion del punto 5"
   ]
  },
  {
   "cell_type": "code",
   "execution_count": 3,
   "metadata": {},
   "outputs": [
    {
     "name": "stdout",
     "output_type": "stream",
     "text": [
      " introduce una frase y yo te devuelvo sustituyendo las dos primeras letras de la primera palabra por las letras pi\n",
      "pi mama me pima es pi mama\n"
     ]
    }
   ],
   "source": [
    "subs=\"pi\"\n",
    "print(f\" introduce una frase y yo te devuelvo sustituyendo las dos primeras letras de la primera palabra por las letras {subs}\")\n",
    "a= input()\n",
    "print(a.replace(a[:2],subs))"
   ]
  },
  {
   "cell_type": "markdown",
   "metadata": {},
   "source": [
    "# EJERCICIO \n",
    "* Vamos a pedirle al usuario su fecha de nacimiento y la fecha actual y le vamos a imprimir por pantalla su edad"
   ]
  },
  {
   "cell_type": "code",
   "execution_count": 4,
   "metadata": {},
   "outputs": [
    {
     "name": "stdout",
     "output_type": "stream",
     "text": [
      "En el año 2021, tu edad es 25\n"
     ]
    }
   ],
   "source": [
    "year = int(input(\"Introduce tu año de nacimiento: \"))\n",
    "this_year = int(input(\"Introduce el año actual: \"))\n",
    "age = this_year - year\n",
    "print(f\"En el año {this_year}, tu edad es {age}\")"
   ]
  },
  {
   "cell_type": "markdown",
   "metadata": {},
   "source": [
    "# Tareas  String con Python "
   ]
  },
  {
   "cell_type": "markdown",
   "metadata": {},
   "source": [
    "# Ejercicio 1 \n",
    "* Utiliza las funciones de concatenar, + y repetir strings, *, junto con la función print() para dados los siguientes strings s1, s2, s3 y s4, conseguir el resultado siguiente: Había una vez, un barquito chiquitito\n",
    "Había una vez, un barquito chiquitito que no podía, que no podía, que no podía navegar. \n",
    "s1 = \"Había una vez, \"\n",
    "s2 = \"un barquito chiquitito \"\n",
    "s3 = \"que no podía, \"\n",
    "s4 = \"que no podía navegar.\""
   ]
  },
  {
   "cell_type": "code",
   "execution_count": 16,
   "metadata": {},
   "outputs": [
    {
     "name": "stdout",
     "output_type": "stream",
     "text": [
      "Había una vez, un barquito chiquitito Había una vez, un barquito chiquitito que no podía, que no podía, que no podía navegar.\n"
     ]
    }
   ],
   "source": [
    "s1 = \"Había una vez, \"\n",
    "s2 = \"un barquito chiquitito \"\n",
    "s3 = \"que no podía, \"\n",
    "s4 = \"que no podía navegar.\"\n",
    "print(s1 + s2 + s1 +s2 + s3 * 2 + s4)"
   ]
  },
  {
   "cell_type": "markdown",
   "metadata": {},
   "source": [
    "# Ejercicio 2\n",
    "* Utiliza la función print() y el comando de salto de línea, \\n, para reproducir exactamente el siguiente texto:\n",
    "Érase un hombre a una nariz pegado,\n",
    "Érase una nariz superlativa,\n",
    "Érase una alquitara medio viva,\n",
    "Érase un peje espada mal barbado;"
   ]
  },
  {
   "cell_type": "code",
   "execution_count": 19,
   "metadata": {},
   "outputs": [
    {
     "name": "stdout",
     "output_type": "stream",
     "text": [
      "Érase un hombre a una nariz pegado,\n",
      "Érase una nariz superlativa, \n",
      "Érase una alquitara medio viva, \n",
      "Érase un peje espada mal barbado;\n",
      "\n"
     ]
    }
   ],
   "source": [
    "s1 = \"Érase un hombre a una nariz pegado,\"\n",
    "s2 = \"Érase una nariz superlativa, \"\n",
    "s3 = \"Érase una alquitara medio viva, \"\n",
    "s4 = \"Érase un peje espada mal barbado;\"\n",
    "print((s1 + \"\\n\") + (s2 + \"\\n\") + (s3 + \"\\n\") + (s4 + \"\\n\"))"
   ]
  },
  {
   "cell_type": "markdown",
   "metadata": {},
   "source": [
    "#Ejercicio 3 \n",
    "* Transforma el siguiente string s a mayúsculas y muéstralo por pantalla con la función print():\n",
    "s = \"me encantan las matemáticas\"\n"
   ]
  },
  {
   "cell_type": "code",
   "execution_count": 26,
   "metadata": {},
   "outputs": [
    {
     "name": "stdout",
     "output_type": "stream",
     "text": [
      "ME ENCANTAN LAS MATEMÁTICAS\n"
     ]
    }
   ],
   "source": [
    "s = \"me encantan las matemáticas\"\n",
    "print(s.upper())    "
   ]
  },
  {
   "cell_type": "markdown",
   "metadata": {},
   "source": [
    "# Ejercicio 4\n",
    "* Ejercicio 4\n",
    "Calcula la longitud del string s\n",
    "s = \"Mi pasión por el chocolate es superior a mis fuerzas\""
   ]
  },
  {
   "cell_type": "code",
   "execution_count": 29,
   "metadata": {},
   "outputs": [
    {
     "name": "stdout",
     "output_type": "stream",
     "text": [
      "52\n"
     ]
    }
   ],
   "source": [
    "s = \"Mi pasión por el chocolate es superior a mis fuerzas\"\n",
    "print(len(s))"
   ]
  },
  {
   "cell_type": "markdown",
   "metadata": {},
   "source": [
    "# Ejercicio 5\n",
    "* Del string s del ejercicio anterior, obtén el substring chocolate y guárdalo en una variable llamada s_sub.\n",
    "No vale contar, deberás hallar los índices del substring con el método .find() (o el que mejor consideres) y\n",
    "la función len().\n",
    "Finalmente, imprime tu resultado por pantalla"
   ]
  },
  {
   "cell_type": "code",
   "execution_count": 84,
   "metadata": {},
   "outputs": [
    {
     "name": "stdout",
     "output_type": "stream",
     "text": [
      "chocolate \n"
     ]
    }
   ],
   "source": [
    "s = \"Mi pasión por el chocolate es superior a mis fuerzas\"\n",
    "s_sub= s.find(\"chocolate\")\n",
    "s_sub = s[17:s_sub + len(\"chocolate\") + 1 :]\n",
    "print(s_sub)\n",
    "\n"
   ]
  },
  {
   "cell_type": "markdown",
   "metadata": {},
   "source": [
    "# Ejercicio 6\n",
    "Con la función input(), indícale al usuario que introduzca su nombre y guárdalo en la variable llamada\n",
    "nombre\n"
   ]
  },
  {
   "cell_type": "code",
   "execution_count": 92,
   "metadata": {},
   "outputs": [
    {
     "name": "stdout",
     "output_type": "stream",
     "text": [
      "Introduce tu nombre\n"
     ]
    }
   ],
   "source": [
    "print (\"Introduce tu nombre\")\n",
    "nombre = input()\n"
   ]
  },
  {
   "cell_type": "markdown",
   "metadata": {},
   "source": [
    "#Ejercicio 7\n",
    "* Con la función input(), indícale al usuario que introduzca su apellido y guárdalo en la variable llamada\n",
    "apellido"
   ]
  },
  {
   "cell_type": "code",
   "execution_count": 93,
   "metadata": {},
   "outputs": [
    {
     "name": "stdout",
     "output_type": "stream",
     "text": [
      "Introduce tu apellido\n"
     ]
    }
   ],
   "source": [
    "print (\"Introduce tu apellido\")\n",
    "apellido = input()\n"
   ]
  },
  {
   "cell_type": "markdown",
   "metadata": {},
   "source": [
    "# Ejercicio 8\n",
    "* Con la función input(), indícale al usuario que introduzca su edad y guárdala en la variable llamada edad.\n",
    "¡Ojo con el tipo de dato!\n"
   ]
  },
  {
   "cell_type": "code",
   "execution_count": 94,
   "metadata": {},
   "outputs": [
    {
     "name": "stdout",
     "output_type": "stream",
     "text": [
      "Introduce tu edad en numeros\n"
     ]
    }
   ],
   "source": [
    "print (\"Introduce tu edad en numeros\")\n",
    "edad = int(input())\n"
   ]
  },
  {
   "cell_type": "markdown",
   "metadata": {},
   "source": [
    "# Ejercicio 9\n",
    "* Con la función input(), indícale al usuario que introduzca la ciudad en la que vive y guárdala en la variable\n",
    "llamada ciudad.\n"
   ]
  },
  {
   "cell_type": "code",
   "execution_count": 95,
   "metadata": {},
   "outputs": [
    {
     "name": "stdout",
     "output_type": "stream",
     "text": [
      "Introduce tu la ciudad donde vives\n"
     ]
    }
   ],
   "source": [
    "print (\"Introduce tu la ciudad donde vives\")\n",
    "ciudad = input()    "
   ]
  },
  {
   "cell_type": "markdown",
   "metadata": {},
   "source": [
    "# Ejercicio 10\n",
    "* Con lo hecho en los ejercicios 6, 7, 8 y 9, imprime por pantalla todos los datos introducidos por el usuario\n",
    "tal y como se muestra en el siguiente ejemplo, donde el usuario ha indicado que su nombre es María; su\n",
    "apellido, Santos; su edad, 21; y su ciudad, Palma de Mallorca.\n",
    "Su nombre es María Santos, tiene 21 años y actualmente vive en Palma de Mallorca."
   ]
  },
  {
   "cell_type": "code",
   "execution_count": 97,
   "metadata": {},
   "outputs": [
    {
     "name": "stdout",
     "output_type": "stream",
     "text": [
      " Su nombre es Maria Santos, tiene 21 años y actualmente vive en Palma de Mallorca.\n"
     ]
    }
   ],
   "source": [
    "print( f\" Su nombre es {nombre} {apellido}, tiene {edad} años y actualmente vive en {ciudad}.\")"
   ]
  },
  {
   "cell_type": "code",
   "execution_count": 98,
   "metadata": {},
   "outputs": [
    {
     "data": {
      "text/plain": [
       "'blito cl'"
      ]
     },
     "execution_count": 98,
     "metadata": {},
     "output_type": "execute_result"
    }
   ],
   "source": [
    "s = \"Pablito clava un clavito\"\n",
    "s[2:10]"
   ]
  },
  {
   "cell_type": "markdown",
   "metadata": {},
   "source": [
    "# Reclutando tripulantes\n",
    "* Pyratilla considera que ya va siendo hora de encontrar a su primer miembro de la tripulación. Para ello, lo primero que decide hacer es un anuncio.\n",
    "\n",
    "title = \"se busca tripulante\"\n",
    "message = \"se ofrece puesto en la tripulación del capitán pyratilla para llevar a cabo labores de marinero. comida y bebida garantizada a lo largo de toda la aventura.\"\n",
    "contact = \"para más información, ir al puerto y buscar al capitán pyratilla, ya famoso en este pueblo costero (evitar preguntar en el casino).\"\n",
    "* Ayuda a Pyratilla a que el anuncio le quede bien:\n",
    "\n",
    "El título debe estar todo en mayúsculas\n",
    "El principio de cada frase debe estar en mayúscula\n",
    "Cada vez que hay un cambio de variable, debe haber un salto de línea\n",
    "El nombre de Pyratilla debe estar en mayúscula\n",
    "Pista: puede que te sea más fácil si guardas las dos frases de la variable message en dos variables diferentes y una vez las tengas listas, las vuelves a unir"
   ]
  },
  {
   "cell_type": "code",
   "execution_count": 23,
   "metadata": {},
   "outputs": [],
   "source": [
    "title = \"se busca tripulante\"\n",
    "message = \"se ofrece puesto en la tripulación del capitán pyratilla para llevar a cabo labores de marinero. comida y bebida garantizada a lo largo de toda la aventura.\"\n",
    "contact = \"para más información, ir al puerto y buscar al capitán pyratilla, ya famoso en este pueblo costero (evitar preguntar en el casino).\"\n"
   ]
  },
  {
   "cell_type": "code",
   "execution_count": 34,
   "metadata": {},
   "outputs": [
    {
     "name": "stdout",
     "output_type": "stream",
     "text": [
      "SE BUSCA TRIPULANTE\n"
     ]
    }
   ],
   "source": [
    "upper_title = title.upper()\n",
    "print(upper_title)\n"
   ]
  },
  {
   "cell_type": "code",
   "execution_count": 35,
   "metadata": {},
   "outputs": [],
   "source": [
    "\n",
    "message= message[0].upper() + message[1:(len(message)-1)].lower()+ message[-1].upper()\n",
    "contact= contact[0].upper() + contact[1:(len(contact)-1)].lower()+ contact[-1].upper()\n",
    "message = message.replace(\"pyratilla\", \"PYRATILLA\")\n",
    "contact = contact.replace(\"pyratilla\", \"PYRATILLA\")\n"
   ]
  },
  {
   "cell_type": "code",
   "execution_count": 36,
   "metadata": {},
   "outputs": [
    {
     "name": "stdout",
     "output_type": "stream",
     "text": [
      "SE BUSCA TRIPULANTE \n",
      "Se ofrece puesto en la tripulación del capitán PYRATILLA para llevar a cabo labores de marinero. comida y bebida garantizada a lo largo de toda la aventura. \n",
      "Para más información, ir al puerto y buscar al capitán PYRATILLA, ya famoso en este pueblo costero (evitar preguntar en el casino).\n"
     ]
    }
   ],
   "source": [
    "print(f\"{upper_title} \\n{message} \\n{contact}\")"
   ]
  },
  {
   "cell_type": "markdown",
   "metadata": {},
   "source": [
    "# El formulario para los interesados en el anuncio\n",
    " * Para evitar hacer entrevistas innecesarias, Pyratilla decide hacer un formulario para que cualquier interesado lo rellene y si pasa esa prueba, entonces le realizará una entrevista.\n",
    "\n",
    "Ayuda a Pyratilla a crear un formulario donde se pida amablemente el nombre, la edad, el hobby y el sueño al interesado en formar parte de la tripulación del capitán Pyratilla."
   ]
  },
  {
   "cell_type": "code",
   "execution_count": 31,
   "metadata": {},
   "outputs": [
    {
     "data": {
      "text/plain": [
       "156"
      ]
     },
     "execution_count": 31,
     "metadata": {},
     "output_type": "execute_result"
    }
   ],
   "source": [
    "print(\"Introduce tu nombre\")\n",
    "nombre = input()"
   ]
  },
  {
   "cell_type": "code",
   "execution_count": null,
   "metadata": {},
   "outputs": [],
   "source": [
    "print(\"Introduce tu edad\")\n",
    "edad = int(input()) \n"
   ]
  },
  {
   "cell_type": "code",
   "execution_count": null,
   "metadata": {},
   "outputs": [],
   "source": [
    "print(\"Introduce tu hobby\")\n",
    "hobby = input()"
   ]
  },
  {
   "cell_type": "code",
   "execution_count": null,
   "metadata": {},
   "outputs": [],
   "source": [
    "print(\"Introduce tu sueño del porque quieres formar parte de la tripulación de Pyratilla\")\n",
    "sueño = input()\n"
   ]
  },
  {
   "cell_type": "code",
   "execution_count": 33,
   "metadata": {},
   "outputs": [
    {
     "name": "stdout",
     "output_type": "stream",
     "text": [
      "s\n"
     ]
    }
   ],
   "source": [
    "print(f\"{nombre} tiene {edad} años, su hobby es {hobby} y quiere formar parte de la tripulacion porque: {sueño}\")\n",
    "\n"
   ]
  },
  {
   "cell_type": "code",
   "execution_count": null,
   "metadata": {},
   "outputs": [],
   "source": []
  },
  {
   "cell_type": "code",
   "execution_count": 96,
   "metadata": {},
   "outputs": [
    {
     "name": "stdout",
     "output_type": "stream",
     "text": [
      "2021-10-05\n",
      "2021-09-01\n",
      "2021-11-01\n"
     ]
    }
   ],
   "source": [
    "from datetime import datetime\n",
    "from datetime import timedelta\n",
    "from dateutil.relativedelta import relativedelta\n",
    "import time\n",
    "import calendar\n",
    "\n",
    "my_date = datetime.today().date()\n",
    "print(my_date)\n",
    "\n",
    "# the first day of the last month   \n",
    "last_month_day = my_date.replace(day=1) - relativedelta(months=1)  \n",
    "print(last_month_day)\n",
    "# the first day of the next month\n",
    "next_month_day = my_date.replace(day=1) + relativedelta(months=1)\n",
    "print(next_month_day)\n",
    "\n",
    "  "
   ]
  },
  {
   "cell_type": "code",
   "execution_count": null,
   "metadata": {},
   "outputs": [],
   "source": []
  }
 ],
 "metadata": {
  "interpreter": {
   "hash": "98b0a9b7b4eaaa670588a142fd0a9b87eaafe866f1db4228be72b4211d12040f"
  },
  "kernelspec": {
   "display_name": "Python 3.8.5 64-bit ('base': conda)",
   "name": "python3"
  },
  "language_info": {
   "codemirror_mode": {
    "name": "ipython",
    "version": 3
   },
   "file_extension": ".py",
   "mimetype": "text/x-python",
   "name": "python",
   "nbconvert_exporter": "python",
   "pygments_lexer": "ipython3",
   "version": "3.8.5"
  },
  "orig_nbformat": 4
 },
 "nbformat": 4,
 "nbformat_minor": 2
}
