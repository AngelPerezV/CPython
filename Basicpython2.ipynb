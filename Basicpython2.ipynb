{
 "cells": [
  {
   "cell_type": "markdown",
   "source": [
    "# Numero es Python "
   ],
   "metadata": {}
  },
  {
   "cell_type": "markdown",
   "source": [
    "## Tipos de numero \n",
    " * int : numeros enteros como 1,2,3,4\n",
    " * float : numeros en coma flotante como 4.5,5.3,9.5.\n",
    " \n",
    " Para poder saber que tipo de dato de numero estamos manejando utilizremos la funcion type()"
   ],
   "metadata": {}
  },
  {
   "cell_type": "code",
   "execution_count": 20,
   "source": [
    "x=5\n",
    "z=2.0\n",
    "type(x)"
   ],
   "outputs": [
    {
     "output_type": "execute_result",
     "data": {
      "text/plain": [
       "int"
      ]
     },
     "metadata": {},
     "execution_count": 20
    }
   ],
   "metadata": {}
  },
  {
   "cell_type": "code",
   "execution_count": 21,
   "source": [
    "type(z)"
   ],
   "outputs": [
    {
     "output_type": "execute_result",
     "data": {
      "text/plain": [
       "float"
      ]
     },
     "metadata": {},
     "execution_count": 21
    }
   ],
   "metadata": {}
  },
  {
   "cell_type": "markdown",
   "source": [
    "Nota: En python, para referirnos a un numero de tipo float con todo 0's en la parte decimal como 2.0, basta que indiquemos 3.\n",
    "Python entiende que los numeros 3.0 y 3. son el mismo, incluyendo que son el mismo tipo: float  "
   ],
   "metadata": {}
  },
  {
   "cell_type": "code",
   "execution_count": 22,
   "source": [
    "x=2.\n",
    "type(x)"
   ],
   "outputs": [
    {
     "output_type": "execute_result",
     "data": {
      "text/plain": [
       "float"
      ]
     },
     "metadata": {},
     "execution_count": 22
    }
   ],
   "metadata": {}
  },
  {
   "cell_type": "markdown",
   "source": [
    "  * Podemos inicar el tipo de dato que deseamos utilizar con las funciones int() y float() en este caso para numeros "
   ],
   "metadata": {}
  },
  {
   "cell_type": "code",
   "execution_count": 23,
   "source": [
    "x=7.0\n",
    "type(int(x))"
   ],
   "outputs": [
    {
     "output_type": "execute_result",
     "data": {
      "text/plain": [
       "int"
      ]
     },
     "metadata": {},
     "execution_count": 23
    }
   ],
   "metadata": {}
  },
  {
   "cell_type": "code",
   "execution_count": 24,
   "source": [
    "z=8\n",
    "type(float(z))"
   ],
   "outputs": [
    {
     "output_type": "execute_result",
     "data": {
      "text/plain": [
       "float"
      ]
     },
     "metadata": {},
     "execution_count": 24
    }
   ],
   "metadata": {}
  },
  {
   "cell_type": "markdown",
   "source": [
    "* Nota: Es sencillo pasar de numeros float, ya que siempre es posible, pero no siempre podemos hacerlo ya que al pasarlos a entero estos pierden la parte decimal"
   ],
   "metadata": {}
  },
  {
   "cell_type": "code",
   "execution_count": 25,
   "source": [
    "x= 4.5 \n",
    "type(int(x))"
   ],
   "outputs": [
    {
     "output_type": "execute_result",
     "data": {
      "text/plain": [
       "int"
      ]
     },
     "metadata": {},
     "execution_count": 25
    }
   ],
   "metadata": {}
  },
  {
   "cell_type": "markdown",
   "source": [
    "# Operaciones aritmeticas"
   ],
   "metadata": {}
  },
  {
   "cell_type": "markdown",
   "source": [
    "* Suma\n",
    "* Resta \n",
    "* Multiplicacion \n",
    "* Division \n"
   ],
   "metadata": {}
  },
  {
   "cell_type": "code",
   "execution_count": 26,
   "source": [
    "x=5\n",
    "z=8.5\n",
    "w=5."
   ],
   "outputs": [],
   "metadata": {}
  },
  {
   "cell_type": "code",
   "execution_count": 27,
   "source": [
    "#Suma\n",
    "y= x + z + w\n",
    "y"
   ],
   "outputs": [
    {
     "output_type": "execute_result",
     "data": {
      "text/plain": [
       "18.5"
      ]
     },
     "metadata": {},
     "execution_count": 27
    }
   ],
   "metadata": {}
  },
  {
   "cell_type": "code",
   "execution_count": 28,
   "source": [
    "#Resta\n",
    "y= x-z-w\n",
    "y"
   ],
   "outputs": [
    {
     "output_type": "execute_result",
     "data": {
      "text/plain": [
       "-8.5"
      ]
     },
     "metadata": {},
     "execution_count": 28
    }
   ],
   "metadata": {}
  },
  {
   "cell_type": "code",
   "execution_count": 29,
   "source": [
    "#multiplicacion \n",
    "y= x*z\n",
    "y"
   ],
   "outputs": [
    {
     "output_type": "execute_result",
     "data": {
      "text/plain": [
       "42.5"
      ]
     },
     "metadata": {},
     "execution_count": 29
    }
   ],
   "metadata": {}
  },
  {
   "cell_type": "markdown",
   "source": [
    "* Nota: Al combinar un numero entero (int) y un numero (float), el resultado es un numero (float), esto ocurre para todas las operaciones aritmeticas en Python."
   ],
   "metadata": {}
  },
  {
   "cell_type": "code",
   "execution_count": 30,
   "source": [
    "#Division \n",
    "y= x/w\n",
    "y"
   ],
   "outputs": [
    {
     "output_type": "execute_result",
     "data": {
      "text/plain": [
       "1.0"
      ]
     },
     "metadata": {},
     "execution_count": 30
    }
   ],
   "metadata": {}
  },
  {
   "cell_type": "code",
   "execution_count": 31,
   "source": [
    "y= z/w\n",
    "y"
   ],
   "outputs": [
    {
     "output_type": "execute_result",
     "data": {
      "text/plain": [
       "1.7"
      ]
     },
     "metadata": {},
     "execution_count": 31
    }
   ],
   "metadata": {}
  },
  {
   "cell_type": "markdown",
   "source": [
    "* Nota importante: Hay que tener en cuenta el tipo de dato (int o float) cuando vayamos a dividir en python, porque en algunas versiones, sidividimos dos numeros enteros, se lleva acabo la division entera automaticamente"
   ],
   "metadata": {}
  },
  {
   "cell_type": "markdown",
   "source": [
    "# Division entera o euclidea \n",
    "* Dado dos numeros naturales a y b . con b ≠ 0, la division Euclidea de a entre b asocia un cociente q y un resto r, ambos numeros naturales, que satisfacen.\n",
    "* a= b*q+r\n",
    "* r<b\n"
   ],
   "metadata": {}
  },
  {
   "cell_type": "markdown",
   "source": [
    "## Ejemplo \n",
    "* si queremos la division de a= 9 entre b = 6, tendremos que el cociente es q= 1 y el resto es r= 3 ya que:\n",
    "*                              9 = 6*1+3 \n",
    "y el resto r es menor al divisor b. es decir, 3 < 6"
   ],
   "metadata": {}
  },
  {
   "cell_type": "code",
   "execution_count": 32,
   "source": [
    "#Para obtener el cociente de la division entera, utilizamos //\n",
    "a=20 \n",
    "b=6\n",
    "c= a//b\n",
    "c"
   ],
   "outputs": [
    {
     "output_type": "execute_result",
     "data": {
      "text/plain": [
       "3"
      ]
     },
     "metadata": {},
     "execution_count": 32
    }
   ],
   "metadata": {}
  },
  {
   "cell_type": "code",
   "execution_count": 34,
   "source": [
    "#Para obtener el resto de la division entera utlizamos % \n",
    "c= a%b\n",
    "c\n",
    "#Nota ya no se declararon las variables porque ya estaban previamente declaradas"
   ],
   "outputs": [
    {
     "output_type": "execute_result",
     "data": {
      "text/plain": [
       "2"
      ]
     },
     "metadata": {},
     "execution_count": 34
    }
   ],
   "metadata": {}
  },
  {
   "cell_type": "markdown",
   "source": [
    "## Potencia \n",
    "* para calcular la potencia a la n-esima potencia de un numero, usamos la funcion ** n o podemos usar la funcion pow()\n"
   ],
   "metadata": {}
  },
  {
   "cell_type": "code",
   "execution_count": 36,
   "source": [
    "# Ejemplo 1 \n",
    "a= 2 ** 2 \n",
    "print(a)\n",
    "b= 3. ** 3\n",
    "print(b)\n",
    "c= 4 ** 4.0\n",
    "print(c)"
   ],
   "outputs": [
    {
     "output_type": "stream",
     "name": "stdout",
     "text": [
      "4\n",
      "27.0\n",
      "256.0\n"
     ]
    }
   ],
   "metadata": {}
  },
  {
   "cell_type": "code",
   "execution_count": 37,
   "source": [
    "# Ejemplo con la funcion pow()\n",
    "a= pow (2 , 2)\n",
    "b= pow (3. , 3)\n",
    "c= pow (4 , 4.0)\n",
    "print(a)\n",
    "print(b)\n",
    "print(c)"
   ],
   "outputs": [
    {
     "output_type": "stream",
     "name": "stdout",
     "text": [
      "4\n",
      "27.0\n",
      "256.0\n"
     ]
    }
   ],
   "metadata": {}
  },
  {
   "cell_type": "markdown",
   "source": [
    "# Orden de las Operaciones aritmeticas \n",
    "El orden en que se llevan acabo las operaciones aritmeticas en python son:\n",
    "* Primero se calcula lo que se halla entre parentesis \n",
    "* A continuacion, las potencias.\n",
    "* Despues, productos y divisiones. En caso de haber varias, el orden que se sigue es de izquierda a derecha.\n",
    "* Finalmente, sumas y restas. En caso de haber varias, el orden que se sigue es de izquierda a derecha. "
   ],
   "metadata": {}
  },
  {
   "cell_type": "code",
   "execution_count": 42,
   "source": [
    "a,b,c,d,e= 6,2,8,4,3\n",
    "f= a + b * c / d - b ** e\n",
    "print(f)\n",
    "f= (a + b) * (c / (d - b) )** e\n",
    "print(f)\n",
    "f= (a + b) * c / (d - b) ** e\n",
    "print(f)\n"
   ],
   "outputs": [
    {
     "output_type": "stream",
     "name": "stdout",
     "text": [
      "2.0\n",
      "512.0\n",
      "8.0\n"
     ]
    }
   ],
   "metadata": {}
  },
  {
   "cell_type": "markdown",
   "source": [
    "* Nota: El uso de llos parentesis puede cambiar completamente el resultado, no conviene abusar de ellos, de tener muchas operaciones de igual maneras las podrias hacer por separado para un mejor entendimiento del codigo"
   ],
   "metadata": {}
  },
  {
   "cell_type": "markdown",
   "source": [
    "# Numeros Complejos \n",
    "### Definiciones \n",
    "\n",
    " * Numero complejo. Es un par ordenado de numeros reales z=(a,b), con a,b,∈ R\n",
    " * Parte real. Es el primer elemento del par ordenado,Re(z)= a.\n",
    " * Parte imaginaria. Es el segundo elemento del par ordenado, Im(z)=b.\n",
    " * complejo real. z=(a,0).\n",
    " * Imaginario puro. z=(0,b).\n",
    " * Unidad imaginaria. i=(0,1). \n",
    " * Conjunto de numeros complejos. C={z=(a,b):a,b,∈ R}\n",
    " "
   ],
   "metadata": {}
  },
  {
   "cell_type": "markdown",
   "source": [
    "\n",
    "### Operaciones\n",
    "\n",
    "- Suma: $(a, b) + (c, d) = (a + c, b + d)$\n",
    "- Resta: $(a, b) - (c, d) = (a - c, b - d)$\n",
    "- Producto: $(a, b) \\cdot (c, d) = (a \\cdot c - b \\cdot d, a\\cdot d + b\\cdot c)$\n",
    "- División: $(a, b) \\div (c, d) = \\frac{(a \\cdot c + b \\cdot d, b \\cdot c - a \\cdot d)}{c^2 + d^2} = \\left(\\frac{a \\cdot c + b \\cdot d}{c^2 + d^2},\\frac{b \\cdot c - a \\cdot d}{c^2 + d^2}\\right)$\n",
    "\n",
    "\n"
   ],
   "metadata": {}
  },
  {
   "cell_type": "markdown",
   "source": [
    "### Conjugado, Módulo y Argumento\n",
    "\n",
    "Dado un complejo $z = (a,b)$,\n",
    "\n",
    "- **Conjugado.** $\\bar{z} = (a, -b)$.\n",
    "- **Módulo.** $\\text{Mod}(z) = |z| = \\sqrt{\\text{Re}(z)^2 + \\text{Im}(z)^2} = \\sqrt{a^2 + b^2}$.\n",
    "- **Argumento.** $\\text{Arg}(z) = \\arctan\\left(\\frac{\\text{Im}(z)}{\\text{Re}(z)}\\right) = \\arctan\\left(\\frac{b}{a}\\right)$\n",
    "\n"
   ],
   "metadata": {}
  },
  {
   "cell_type": "markdown",
   "source": [
    "### Unidad imaginaria\n",
    "\n",
    "$i = (0, 1)$ satisface\n",
    "\n",
    "$$i^2 = (0, 1)^2 = (0, 1)\\cdot (0, 1) = (-1, 0)$$\n",
    "\n",
    "De aquí obtenemos la igualdad $i = \\sqrt{-1}$, que es otra de las definiciones que se le da a la unidad imaginaria.\n",
    "\n"
   ],
   "metadata": {}
  },
  {
   "cell_type": "markdown",
   "source": [
    "### Otras representaciones\n",
    "\n",
    "Representación binómica: $z = a + bi$\n",
    "\n",
    "- $a = \\text{Re}(z)$\n",
    "- $b = \\text{Im}(z)$\n",
    "\n",
    "Representación polar: $z = re^{i\\phi}$\n",
    "\n",
    "- $r = \\text{Mod}(z)$\n",
    "- $\\phi = \\text{Arg}(z)$"
   ],
   "metadata": {}
  },
  {
   "cell_type": "markdown",
   "source": [
    "\n",
    "## Números complejos en Python\n",
    "\n",
    "**Nota.** En `Python`, los números complejos se definen en forma binómica y en vez de utilizar una `i`, se utiliza la letra `j` para representar la unidad imaginaria.\n",
    "\n"
   ],
   "metadata": {}
  },
  {
   "cell_type": "code",
   "execution_count": 1,
   "source": [
    "c= 3 + 5j\n",
    "c"
   ],
   "outputs": [
    {
     "output_type": "execute_result",
     "data": {
      "text/plain": [
       "(3+5j)"
      ]
     },
     "metadata": {},
     "execution_count": 1
    }
   ],
   "metadata": {}
  },
  {
   "cell_type": "code",
   "execution_count": 3,
   "source": [
    "type(c)"
   ],
   "outputs": [
    {
     "output_type": "execute_result",
     "data": {
      "text/plain": [
       "complex"
      ]
     },
     "metadata": {},
     "execution_count": 3
    }
   ],
   "metadata": {}
  },
  {
   "cell_type": "markdown",
   "source": [
    "* Tambien podemos definir numeros complejos en Python con la funcion complex()"
   ],
   "metadata": {}
  },
  {
   "cell_type": "code",
   "execution_count": 4,
   "source": [
    "c= complex(2,-8)\n",
    "c"
   ],
   "outputs": [
    {
     "output_type": "execute_result",
     "data": {
      "text/plain": [
       "(2-8j)"
      ]
     },
     "metadata": {},
     "execution_count": 4
    }
   ],
   "metadata": {}
  },
  {
   "cell_type": "code",
   "execution_count": 5,
   "source": [
    "type(c)"
   ],
   "outputs": [
    {
     "output_type": "execute_result",
     "data": {
      "text/plain": [
       "complex"
      ]
     },
     "metadata": {},
     "execution_count": 5
    }
   ],
   "metadata": {}
  },
  {
   "cell_type": "markdown",
   "source": [
    "* Para obtener la parte real, utilizamos el metodo .real\n"
   ],
   "metadata": {}
  },
  {
   "cell_type": "code",
   "execution_count": 6,
   "source": [
    "c.real"
   ],
   "outputs": [
    {
     "output_type": "execute_result",
     "data": {
      "text/plain": [
       "2.0"
      ]
     },
     "metadata": {},
     "execution_count": 6
    }
   ],
   "metadata": {}
  },
  {
   "cell_type": "markdown",
   "source": [
    "* Para obtener la parte imaginaria, utilizamos el metodo .imag"
   ],
   "metadata": {}
  },
  {
   "cell_type": "code",
   "execution_count": 7,
   "source": [
    "c.imag\n"
   ],
   "outputs": [
    {
     "output_type": "execute_result",
     "data": {
      "text/plain": [
       "-8.0"
      ]
     },
     "metadata": {},
     "execution_count": 7
    }
   ],
   "metadata": {}
  },
  {
   "cell_type": "markdown",
   "source": [
    "* Para sumar numeros complejos utilizamos la funcion '+' "
   ],
   "metadata": {}
  },
  {
   "cell_type": "code",
   "execution_count": 8,
   "source": [
    "c1= 2+8j\n",
    "c2= 3+7j\n",
    "c1+c2  "
   ],
   "outputs": [
    {
     "output_type": "execute_result",
     "data": {
      "text/plain": [
       "(5+15j)"
      ]
     },
     "metadata": {},
     "execution_count": 8
    }
   ],
   "metadata": {}
  },
  {
   "cell_type": "markdown",
   "source": [
    "* Para restar numeros complejos utlizamos la funcion '-'\n"
   ],
   "metadata": {}
  },
  {
   "cell_type": "code",
   "execution_count": 9,
   "source": [
    "c1-c2"
   ],
   "outputs": [
    {
     "output_type": "execute_result",
     "data": {
      "text/plain": [
       "(-1+1j)"
      ]
     },
     "metadata": {},
     "execution_count": 9
    }
   ],
   "metadata": {}
  },
  {
   "cell_type": "markdown",
   "source": [
    "* Para multiplicar una constante por un numero complejo, o bien multiplicar dos numeros complejos, utilizamos la funcion '*'"
   ],
   "metadata": {}
  },
  {
   "cell_type": "code",
   "execution_count": 10,
   "source": [
    "c3 = 4 \n",
    "c3 * c2\n"
   ],
   "outputs": [
    {
     "output_type": "execute_result",
     "data": {
      "text/plain": [
       "(12+28j)"
      ]
     },
     "metadata": {},
     "execution_count": 10
    }
   ],
   "metadata": {}
  },
  {
   "cell_type": "code",
   "execution_count": 11,
   "source": [
    "c1 * c2 \n"
   ],
   "outputs": [
    {
     "output_type": "execute_result",
     "data": {
      "text/plain": [
       "(-50+38j)"
      ]
     },
     "metadata": {},
     "execution_count": 11
    }
   ],
   "metadata": {}
  },
  {
   "cell_type": "markdown",
   "source": [
    "* Para dividir numeros complejos utilizamos la funcion /  "
   ],
   "metadata": {}
  },
  {
   "cell_type": "code",
   "execution_count": 13,
   "source": [
    "c1 = -1 -1j\n",
    "c2 = 1 -1j\n",
    "c1/c2"
   ],
   "outputs": [
    {
     "output_type": "execute_result",
     "data": {
      "text/plain": [
       "-1j"
      ]
     },
     "metadata": {},
     "execution_count": 13
    }
   ],
   "metadata": {}
  },
  {
   "cell_type": "markdown",
   "source": [
    "* Nota. Si queremos indicar que la parte imaginaria es 1 o -1, no basta con poner j o -j, sino que hay que escribir 1j o -1j, siempre que definamos el número complejo en su forma binómica.\n",
    "\n",
    "Para calcular el conjugado de un número complejo, utilizamos el método .conjugate()"
   ],
   "metadata": {}
  },
  {
   "cell_type": "code",
   "execution_count": 14,
   "source": [
    "c = -4 +2j\n",
    "c.conjugate()"
   ],
   "outputs": [
    {
     "output_type": "execute_result",
     "data": {
      "text/plain": [
       "(-4-2j)"
      ]
     },
     "metadata": {},
     "execution_count": 14
    }
   ],
   "metadata": {}
  },
  {
   "cell_type": "markdown",
   "source": [
    "* Para calcular el modulo de un numero complejo, utilizamos la funcion abs()"
   ],
   "metadata": {}
  },
  {
   "cell_type": "code",
   "execution_count": 34,
   "source": [
    "c = -8j\n",
    "abs(c)#numero absoluto"
   ],
   "outputs": [
    {
     "output_type": "execute_result",
     "data": {
      "text/plain": [
       "8.0"
      ]
     },
     "metadata": {},
     "execution_count": 34
    }
   ],
   "metadata": {}
  },
  {
   "cell_type": "markdown",
   "source": [
    "* Para calcular el argumento de un numero complejo, utilizamos la funcion phase() del paquete cmath."
   ],
   "metadata": {}
  },
  {
   "cell_type": "code",
   "execution_count": 9,
   "source": [
    "import cmath as cm \n",
    "cm.phase(c)"
   ],
   "outputs": [
    {
     "output_type": "execute_result",
     "data": {
      "text/plain": [
       "1.5707963267948966"
      ]
     },
     "metadata": {},
     "execution_count": 9
    }
   ],
   "metadata": {}
  },
  {
   "cell_type": "markdown",
   "source": [
    "* Para pasar de forma binomica a forma polar, usamos la funcion polar() del paquete cmath"
   ],
   "metadata": {}
  },
  {
   "cell_type": "code",
   "execution_count": 25,
   "source": [
    "c"
   ],
   "outputs": [
    {
     "output_type": "execute_result",
     "data": {
      "text/plain": [
       "(-0-8j)"
      ]
     },
     "metadata": {},
     "execution_count": 25
    }
   ],
   "metadata": {}
  },
  {
   "cell_type": "code",
   "execution_count": 28,
   "source": [
    "cm.polar(c)"
   ],
   "outputs": [
    {
     "output_type": "execute_result",
     "data": {
      "text/plain": [
       "(8.0, -1.5707963267948966)"
      ]
     },
     "metadata": {},
     "execution_count": 28
    }
   ],
   "metadata": {}
  },
  {
   "cell_type": "code",
   "execution_count": 29,
   "source": [
    "z= 5+2j\n",
    "cm.polar(z)"
   ],
   "outputs": [
    {
     "output_type": "execute_result",
     "data": {
      "text/plain": [
       "(5.385164807134504, 0.3805063771123649)"
      ]
     },
     "metadata": {},
     "execution_count": 29
    }
   ],
   "metadata": {}
  },
  {
   "cell_type": "markdown",
   "source": [
    "* Para pasar de forma polar a forma binomica, usamos la funcion rect() del paquete cmath."
   ],
   "metadata": {}
  },
  {
   "cell_type": "code",
   "execution_count": 31,
   "source": [
    "cm.rect(abs(c),cm.phase(c))# pasar el modulo y el argumento "
   ],
   "outputs": [
    {
     "output_type": "execute_result",
     "data": {
      "text/plain": [
       "(4.898587196589413e-16-8j)"
      ]
     },
     "metadata": {},
     "execution_count": 31
    }
   ],
   "metadata": {}
  },
  {
   "cell_type": "code",
   "execution_count": 42,
   "source": [
    "#Ejercicio1\n",
    "#Calcula la división entera de 45 entre 6\n",
    "45//6\n"
   ],
   "outputs": [
    {
     "output_type": "execute_result",
     "data": {
      "text/plain": [
       "7"
      ]
     },
     "metadata": {},
     "execution_count": 42
    }
   ],
   "metadata": {}
  },
  {
   "cell_type": "code",
   "execution_count": 45,
   "source": [
    "#Ejercicio 2\n",
    "#Calcula el restante de la división entera de 45 entre 6\n",
    "45%6"
   ],
   "outputs": [
    {
     "output_type": "execute_result",
     "data": {
      "text/plain": [
       "3"
      ]
     },
     "metadata": {},
     "execution_count": 45
    }
   ],
   "metadata": {}
  },
  {
   "cell_type": "code",
   "execution_count": 48,
   "source": [
    "#Ejercicio 3\n",
    "# Realiza la siguiente operación en Python, donde ÷ indica la división entera:\n",
    "10 +20 // 7-2"
   ],
   "outputs": [
    {
     "output_type": "execute_result",
     "data": {
      "text/plain": [
       "10"
      ]
     },
     "metadata": {},
     "execution_count": 48
    }
   ],
   "metadata": {}
  },
  {
   "cell_type": "code",
   "execution_count": 23,
   "source": [
    "#Ejercicio 4\n",
    "\n",
    "(9 -(25+5-2)/(7*4))/pow(2 , 3)\n"
   ],
   "outputs": [
    {
     "output_type": "execute_result",
     "data": {
      "text/plain": [
       "1.0"
      ]
     },
     "metadata": {},
     "execution_count": 23
    }
   ],
   "metadata": {}
  },
  {
   "cell_type": "code",
   "execution_count": 24,
   "source": [
    "#Ejercicio 5 \n",
    "(2 + pow(2,3) -2 * (2-pow(2,5)) + pow(2,2) * 2 + 2)/ (2*(2*2-pow(2,4))+pow(2,2))"
   ],
   "outputs": [
    {
     "output_type": "execute_result",
     "data": {
      "text/plain": [
       "-4.0"
      ]
     },
     "metadata": {},
     "execution_count": 24
    }
   ],
   "metadata": {}
  },
  {
   "cell_type": "code",
   "execution_count": 4,
   "source": [
    "#Ejercicio 6 #R1\n",
    "a = +6j\n",
    "b = 4 + 1j\n",
    "c = a - b * 2\n",
    "c"
   ],
   "outputs": [
    {
     "output_type": "execute_result",
     "data": {
      "text/plain": [
       "(-8+4j)"
      ]
     },
     "metadata": {},
     "execution_count": 4
    }
   ],
   "metadata": {}
  },
  {
   "cell_type": "code",
   "execution_count": 25,
   "source": [
    "#R2\n",
    "6j -(4 + 1j)*2"
   ],
   "outputs": [
    {
     "output_type": "execute_result",
     "data": {
      "text/plain": [
       "(-8+4j)"
      ]
     },
     "metadata": {},
     "execution_count": 25
    }
   ],
   "metadata": {}
  },
  {
   "cell_type": "code",
   "execution_count": 6,
   "source": [
    "#Ejercicio 7 #R1\n",
    "a = 1 + 1j\n",
    "b = 1 - 1j\n",
    "c = -1 + 1j \n",
    "(a/b)+(2/c)"
   ],
   "outputs": [
    {
     "output_type": "execute_result",
     "data": {
      "text/plain": [
       "(-1+0j)"
      ]
     },
     "metadata": {},
     "execution_count": 6
    }
   ],
   "metadata": {}
  },
  {
   "cell_type": "code",
   "execution_count": 26,
   "source": [
    "#R2\n",
    "(1 + 1j) / (1 - 1j) + 2 / (-1 + 1j)"
   ],
   "outputs": [
    {
     "output_type": "execute_result",
     "data": {
      "text/plain": [
       "(-1+0j)"
      ]
     },
     "metadata": {},
     "execution_count": 26
    }
   ],
   "metadata": {}
  },
  {
   "cell_type": "code",
   "execution_count": 7,
   "source": [
    "#Ejercicio 8 \n",
    "a = 1 +1j\n",
    "pow(a, 2)"
   ],
   "outputs": [
    {
     "output_type": "execute_result",
     "data": {
      "text/plain": [
       "2j"
      ]
     },
     "metadata": {},
     "execution_count": 7
    }
   ],
   "metadata": {}
  },
  {
   "cell_type": "code",
   "execution_count": 19,
   "source": [
    "#Ejercicio 9#R1\n",
    "z1= 9-3j\n",
    "z2 = -2 - 1j\n",
    "z = z1/z2\n",
    "abs(z)#calcular modulo complejo"
   ],
   "outputs": [
    {
     "output_type": "execute_result",
     "data": {
      "text/plain": [
       "4.242640687119285"
      ]
     },
     "metadata": {},
     "execution_count": 19
    }
   ],
   "metadata": {}
  },
  {
   "cell_type": "code",
   "execution_count": 27,
   "source": [
    "#R2\n",
    "abs((9- 3j) / (-2 - 1j))\n"
   ],
   "outputs": [
    {
     "output_type": "execute_result",
     "data": {
      "text/plain": [
       "4.242640687119285"
      ]
     },
     "metadata": {},
     "execution_count": 27
    }
   ],
   "metadata": {}
  },
  {
   "cell_type": "code",
   "execution_count": 18,
   "source": [
    "#Ejercicio 10\n",
    "c = 1j\n",
    "cm.phase(c)# numero complejo "
   ],
   "outputs": [
    {
     "output_type": "execute_result",
     "data": {
      "text/plain": [
       "1.5707963267948966"
      ]
     },
     "metadata": {},
     "execution_count": 18
    }
   ],
   "metadata": {}
  },
  {
   "cell_type": "code",
   "execution_count": null,
   "source": [
    "(2 + 1.0) * (int(18.7) / (7 - 5.)) ** 3"
   ],
   "outputs": [],
   "metadata": {}
  },
  {
   "cell_type": "markdown",
   "source": [
    "## Prueba Numero dos Caso de \"Haciendo cuentas\"\n"
   ],
   "metadata": {}
  },
  {
   "cell_type": "markdown",
   "source": [
    "Al principio de su aventura, Pyratilla tiene 100 monedas (la variable coins), cortesía de los vecinos de su pueblo natal.\n",
    "\n",
    "Al llegar al pueblo vecino, un pueblo con puerto, lo primero que busca es comprar un barco. Para su desgracia, todos los barcos, hasta el más pequeño, se le salen de presupuesto. Sin embargo, tras unas horas de caminar sin rumbo, se le aparece ante sus ojos la solución a sus problemas: el Casino.\n",
    "\n",
    "Veréis, Pyratilla es un tipo con suerte. Siempre le sonríe. Ya sea una apuesta callejera o un sorteo de buffet libre de postres, lo más probable es que le toque. Así que decide ir con sus ahorros al Casino, para así aumentar su cantidad de monedas.\n",
    "\n",
    "Este es el barco que le ha gustado a Pyratilla y le va a costar 2000 monedas."
   ],
   "metadata": {}
  },
  {
   "cell_type": "code",
   "execution_count": 20,
   "source": [
    "# Entonces Pyratilla se pone a hacer cuentas.\n",
    "coins = float(100)\n",
    "coins_goal = float(2000)"
   ],
   "outputs": [],
   "metadata": {}
  },
  {
   "cell_type": "markdown",
   "source": [
    "* ¿Cuánto tiene que multiplicar sus monedas actuales para llegar a las monedas objetivo?"
   ],
   "metadata": {}
  },
  {
   "cell_type": "code",
   "execution_count": 4,
   "source": [
    "coins = coins * 20\n",
    "coins"
   ],
   "outputs": [
    {
     "output_type": "execute_result",
     "data": {
      "text/plain": [
       "2000.0"
      ]
     },
     "metadata": {},
     "execution_count": 4
    }
   ],
   "metadata": {}
  },
  {
   "cell_type": "code",
   "execution_count": 17,
   "source": [
    "#otra opcion de respuesta\n",
    "coins_goal / coins"
   ],
   "outputs": [
    {
     "output_type": "execute_result",
     "data": {
      "text/plain": [
       "20.0"
      ]
     },
     "metadata": {},
     "execution_count": 17
    }
   ],
   "metadata": {}
  },
  {
   "cell_type": "markdown",
   "source": [
    "* No obstante, Pyratilla no se conformará con eso, pues además del barco va a tener que comprar ron y comida suficientes para el viaje. Además, la comida y el ron no solo serán para él, pues ha decidido que antes de zarpar quiere a un miembro más en su tripulación. Por tanto, debe rehacer las cuentas.\n",
    "* Nuevo objetivo coins_goal = float(10,000)"
   ],
   "metadata": {}
  },
  {
   "cell_type": "code",
   "execution_count": 13,
   "source": [
    "#Con este nuevo objetivo que se ha puesto, ¿cuánto debe multiplicar sus monedas actuales, 100, para llegar a las monedas objetivo?\n",
    "coins = coins * 100\n",
    "coins"
   ],
   "outputs": [
    {
     "output_type": "execute_result",
     "data": {
      "text/plain": [
       "10000.0"
      ]
     },
     "metadata": {},
     "execution_count": 13
    }
   ],
   "metadata": {}
  },
  {
   "cell_type": "code",
   "execution_count": 21,
   "source": [
    "#otra opcion de respuesta\n",
    "coins_goal= float(10000)\n",
    "coins_goal / coins"
   ],
   "outputs": [
    {
     "output_type": "execute_result",
     "data": {
      "text/plain": [
       "100.0"
      ]
     },
     "metadata": {},
     "execution_count": 21
    }
   ],
   "metadata": {}
  },
  {
   "cell_type": "markdown",
   "source": [
    "10 horas después de haber entrado por la puerta del Casino y con la suerte de su lado, Pyratilla no solo ha alcanzado su objetivo con creces sino que lo han echado del Casino porque estaba a punto de arruinarlos (era un casino pequeñito de pueblo).\n",
    "\n",
    "¡¡¡Pyratilla tiene ahora en su bolsillo un total de 500000 monedas!!!"
   ],
   "metadata": {}
  },
  {
   "cell_type": "code",
   "execution_count": 14,
   "source": [
    "coins = float(500000)\n",
    "#Entonces, lo primero que hace es ir a comprar ese barco que tanto quería.\n",
    "#Habiendo comprado el barco, ¿cuántas monedas le quedan en total en el bolsillo?\n",
    "#recordadno que el barco cuesta 2000\n",
    "barco = float(2000)\n",
    "coins= coins - barco\n",
    "coins "
   ],
   "outputs": [
    {
     "output_type": "execute_result",
     "data": {
      "text/plain": [
       "498000.0"
      ]
     },
     "metadata": {},
     "execution_count": 14
    }
   ],
   "metadata": {}
  },
  {
   "cell_type": "code",
   "execution_count": 23,
   "source": [
    "#otra opcion \n",
    "coins = float(500000)\n",
    "coins -=2000\n",
    "coins"
   ],
   "outputs": [
    {
     "output_type": "execute_result",
     "data": {
      "text/plain": [
       "498000.0"
      ]
     },
     "metadata": {},
     "execution_count": 23
    }
   ],
   "metadata": {}
  },
  {
   "cell_type": "markdown",
   "source": [
    "Ahora, le quedan monedas más que suficientes para la comida, el ron, algo de ropa nueva, un sombrero de capitán y llegar tranquilo a la siguiente isla. Pero antes, tiene que buscar a su primer tripulante."
   ],
   "metadata": {}
  },
  {
   "cell_type": "code",
   "execution_count": 8,
   "source": [
    "from datetime import datetime \n",
    "s=datetime.today().strftime(\"%m%Y\")\n",
    "type (str(s))"
   ],
   "outputs": [
    {
     "output_type": "execute_result",
     "data": {
      "text/plain": [
       "str"
      ]
     },
     "metadata": {},
     "execution_count": 8
    }
   ],
   "metadata": {}
  },
  {
   "cell_type": "code",
   "execution_count": 9,
   "source": [
    "s"
   ],
   "outputs": [
    {
     "output_type": "execute_result",
     "data": {
      "text/plain": [
       "datetime.datetime(2021, 7, 14, 23, 29, 14, 841974)"
      ]
     },
     "metadata": {},
     "execution_count": 9
    }
   ],
   "metadata": {}
  }
 ],
 "metadata": {
  "interpreter": {
   "hash": "98b0a9b7b4eaaa670588a142fd0a9b87eaafe866f1db4228be72b4211d12040f"
  },
  "kernelspec": {
   "display_name": "Python 3.8.5 64-bit ('base': conda)",
   "name": "python3"
  },
  "language_info": {
   "name": "python",
   "version": ""
  },
  "orig_nbformat": 4
 },
 "nbformat": 4,
 "nbformat_minor": 2
}