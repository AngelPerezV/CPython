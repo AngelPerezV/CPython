{
 "cells": [
  {
   "cell_type": "markdown",
   "metadata": {},
   "source": [
    "Python Basico \n",
    "Variables \n",
    "Variable: Consta de un espacio en el sistema de almacenaje y un nombre simbolico que esta asociado a dicho espacio.\n",
    "\n",
    "Dicho de otro modo, una variable es la relacion que hay entre un nombre y un objeto ubicado en algun lugar de la memoria del ordenador.\n",
    "\n",
    "En python asignamos valores a las variables siguiendo el siguiente formato:\n",
    "\n",
    "variable=valor"
   ]
  },
  {
   "cell_type": "code",
   "execution_count": 1,
   "metadata": {},
   "outputs": [
    {
     "data": {
      "text/plain": [
       "1"
      ]
     },
     "execution_count": 1,
     "metadata": {},
     "output_type": "execute_result"
    }
   ],
   "source": [
    "#ejemplo \n",
    "x=1\n",
    "x"
   ]
  },
  {
   "cell_type": "code",
   "execution_count": 2,
   "metadata": {},
   "outputs": [
    {
     "data": {
      "text/plain": [
       "'hola'"
      ]
     },
     "execution_count": 2,
     "metadata": {},
     "output_type": "execute_result"
    }
   ],
   "source": [
    "#un ejemplo mas \n",
    "y= 'hola'# el hola puede ser con \"\" o '' \n",
    "y"
   ]
  },
  {
   "cell_type": "markdown",
   "metadata": {},
   "source": [
    "# Resticciones sobre los nombres de las variables \n",
    "* No pueden ni contener caracteres especiales\n",
    "* no puede empezar por numeros \n",
    "* no pueden ser llamdas igual que las palabrasclaves reservadas en python: https://ellibrodepython.com/palabras-reservadas-python#:~:text=Palabras%20reservadas%20en%20Python%20Python%20tiene%20un%20conjunto,True%2C%20y%20si%20intentamos%20hacerlo%2C%20tendremos%20un%20SyntaxError.\n",
    "* No pueden contener espacios \n",
    "# Observacion.\n",
    "Conviene que al darle nombre a una variable, este tenga sentido al dato que deseamos guardar en ella, para que de esta manera sea mas facil comprender para quien vaya a leer el codigo.\n",
    "\n",
    "# observacion 2.\n",
    "A dia de hoy, silos nombres de las variables estan compuestas por multiples palabras, hay 4 forma de escribir dichos nombres:\n",
    "* camelCase:nombreMascota\n",
    "* PascalCase:NombreMascota\n",
    "* snake_case:nombre_mascota\n",
    "* kebab-case:nombre-mascota"
   ]
  },
  {
   "cell_type": "markdown",
   "metadata": {},
   "source": [
    "## Palabras clave en Python \n",
    "Las palabras clave en python son las que se muestran con el siguiente fragmento de codigo."
   ]
  },
  {
   "cell_type": "code",
   "execution_count": 3,
   "metadata": {},
   "outputs": [
    {
     "data": {
      "text/plain": [
       "['False',\n",
       " 'None',\n",
       " 'True',\n",
       " 'and',\n",
       " 'as',\n",
       " 'assert',\n",
       " 'async',\n",
       " 'await',\n",
       " 'break',\n",
       " 'class',\n",
       " 'continue',\n",
       " 'def',\n",
       " 'del',\n",
       " 'elif',\n",
       " 'else',\n",
       " 'except',\n",
       " 'finally',\n",
       " 'for',\n",
       " 'from',\n",
       " 'global',\n",
       " 'if',\n",
       " 'import',\n",
       " 'in',\n",
       " 'is',\n",
       " 'lambda',\n",
       " 'nonlocal',\n",
       " 'not',\n",
       " 'or',\n",
       " 'pass',\n",
       " 'raise',\n",
       " 'return',\n",
       " 'try',\n",
       " 'while',\n",
       " 'with',\n",
       " 'yield']"
      ]
     },
     "execution_count": 3,
     "metadata": {},
     "output_type": "execute_result"
    }
   ],
   "source": [
    "import keyword \n",
    "keyword.kwlist"
   ]
  },
  {
   "cell_type": "markdown",
   "metadata": {},
   "source": [
    "\n",
    "## Declaracion de multoples variables en una sola linea de codigo \n",
    "* Se hace de la siguiente manera:"
   ]
  },
  {
   "cell_type": "code",
   "execution_count": 4,
   "metadata": {},
   "outputs": [],
   "source": [
    "age, name = 22, \"Maria\" #Lo que hacemos aqui es que amabas variables se declaran en una linea\n",
    "#donde despues del operador = asignamos los varoles , este procceso es lo mismo con n cantidad de variable \n",
    "#Nota la unica condicion para que esto funcione es que el mismo numero de varibales declaradas tiene que ser igual al mismo numero de valores asignados"
   ]
  },
  {
   "cell_type": "code",
   "execution_count": 5,
   "metadata": {},
   "outputs": [
    {
     "data": {
      "text/plain": [
       "22"
      ]
     },
     "execution_count": 5,
     "metadata": {},
     "output_type": "execute_result"
    }
   ],
   "source": [
    "age#como lo vemos declarado es age=22"
   ]
  },
  {
   "cell_type": "code",
   "execution_count": 6,
   "metadata": {},
   "outputs": [
    {
     "data": {
      "text/plain": [
       "'Maria'"
      ]
     },
     "execution_count": 6,
     "metadata": {},
     "output_type": "execute_result"
    }
   ],
   "source": [
    "name #como lo veriamos separado name=\"Maria\""
   ]
  },
  {
   "cell_type": "markdown",
   "metadata": {},
   "source": [
    "## Operaciones con variables numericas \n",
    "* Una vez hemos guardado un valor numerico en una varibale, podemos operar con el:\n"
   ]
  },
  {
   "cell_type": "code",
   "execution_count": 7,
   "metadata": {},
   "outputs": [
    {
     "data": {
      "text/plain": [
       "4"
      ]
     },
     "execution_count": 7,
     "metadata": {},
     "output_type": "execute_result"
    }
   ],
   "source": [
    "x=3\n",
    "x+1"
   ]
  },
  {
   "cell_type": "markdown",
   "metadata": {},
   "source": [
    "* Incluso podemos guardar ese valor en una nueva variable "
   ]
  },
  {
   "cell_type": "code",
   "execution_count": 8,
   "metadata": {},
   "outputs": [
    {
     "data": {
      "text/plain": [
       "4"
      ]
     },
     "execution_count": 8,
     "metadata": {},
     "output_type": "execute_result"
    }
   ],
   "source": [
    "y= x+1\n",
    "y"
   ]
  },
  {
   "cell_type": "markdown",
   "metadata": {},
   "source": [
    "* O bien podemos sobreescribir la variable que teniamos originalmete "
   ]
  },
  {
   "cell_type": "code",
   "execution_count": 9,
   "metadata": {},
   "outputs": [
    {
     "data": {
      "text/plain": [
       "4"
      ]
     },
     "execution_count": 9,
     "metadata": {},
     "output_type": "execute_result"
    }
   ],
   "source": [
    "x=x+1\n",
    "x"
   ]
  },
  {
   "cell_type": "markdown",
   "metadata": {},
   "source": [
    "* En python, si queremos sobreescriir una variable numerica sumandole a esta una cantidad, lo podemos hacer de la siguiente manera:"
   ]
  },
  {
   "cell_type": "code",
   "execution_count": 10,
   "metadata": {},
   "outputs": [
    {
     "data": {
      "text/plain": [
       "7"
      ]
     },
     "execution_count": 10,
     "metadata": {},
     "output_type": "execute_result"
    }
   ],
   "source": [
    "x=7\n",
    "x\n",
    "#Por ejemplo si quisieramos que x valiera 9 tendriamos que hacer lo siguiente:\n",
    "# x = x+2  y ahora eso tambien se puede hacer asi:"
   ]
  },
  {
   "cell_type": "code",
   "execution_count": 11,
   "metadata": {},
   "outputs": [
    {
     "data": {
      "text/plain": [
       "9"
      ]
     },
     "execution_count": 11,
     "metadata": {},
     "output_type": "execute_result"
    }
   ],
   "source": [
    "x +=2\n",
    "x"
   ]
  },
  {
   "cell_type": "markdown",
   "metadata": {},
   "source": [
    "## Observacion.\n",
    "* Al igual que existe el '+=' , tambien tenemos -=, *=, /=, //=, %=, y **=, que son el eqivalente a += con el resto de operaciones aritmeticas existentes en Python.\n",
    "\n",
    "## Nota \n",
    "* Dado un bloque de codigo, a veces puede ser util explicar que hace o en que consiste, o bien hacer que una linea no se ejecute por algun motivo, pero que siga presente en dicho codigo.\n",
    "Aqui entran en juego los comentarios, que son parte de los codigos, pero no se ejecutan, si queremos comentar un linea utlizamos '#' como ya los podemos encontrar en pequeños fragmentos de codigo anterior. "
   ]
  },
  {
   "cell_type": "code",
   "execution_count": 12,
   "metadata": {},
   "outputs": [
    {
     "data": {
      "text/plain": [
       "1"
      ]
     },
     "execution_count": 12,
     "metadata": {},
     "output_type": "execute_result"
    }
   ],
   "source": [
    "#Ejemplo de comentarios\n",
    "#Vamos a definir la variable x y asignarle el valor 1\n",
    "x=1 # Aqui esta nuestra variable x \n",
    "#Esto es otro comentario \n",
    "#Recuerda que ninguno de los comentarios se ejecutara\n",
    "x"
   ]
  },
  {
   "cell_type": "markdown",
   "metadata": {},
   "source": [
    "## Nota2:\n",
    "* Los comentarios. como ya se ha dicho, pueden ser muy utiles a la hora de entender nuestro codigo. Sin embargo, no conviene abusar de estos, ya que el codigo debe ser claro y muchos comentarios pueden volver confuso el codigo "
   ]
  },
  {
   "cell_type": "markdown",
   "metadata": {},
   "source": [
    "## Funcion IMPORT\n",
    "# Definicion de conceptos\n",
    "* Algoritmo. Conjunto ordenado de operaciones sistematicas que permite hacer un calculo y hallar la solucion de un problema.\n",
    "* Funcion: Bloque de codigo con un nombre asociado, que recibe cero o mas argumentos como entrada, sigue una secuencia de sentencias, las cuales ejecuta una operaion deseada y devuelve un valor y/o realiza una tarea.\n",
    "* Script. Archivo diseñado para ser ejecutado. Puede contener funciones, programas, etc.\n",
    "* Modulo. Script que contiene colecciones de funciones, definicioes y declaraciones de Python."
   ]
  },
  {
   "cell_type": "markdown",
   "metadata": {},
   "source": [
    "* Las funciones de un modulo pueden ser importadas. Es aqui donde entra en juego la funcion import. \n",
    "* Por ejemplo, vamos a importar el modulo 'math'."
   ]
  },
  {
   "cell_type": "code",
   "execution_count": 14,
   "metadata": {},
   "outputs": [],
   "source": [
    "import math #funcion para operaciones matematicas\n"
   ]
  },
  {
   "cell_type": "markdown",
   "metadata": {},
   "source": [
    "* Con la linea anterior, hemos cargado el modulo de math, permitiendonos asi poder trabajar con las funciones que contiene, haciendo uso de la sintaxis math.funcion() o math.variable.\n",
    "* A la hora de usar la funciones de un modulo, puede resultar tedioso tener que poner siempre el nombre del modulo previo a la funcion. Es por ello que la funcion import nos permite hacer lo siguiente:"
   ]
  },
  {
   "cell_type": "code",
   "execution_count": 15,
   "metadata": {},
   "outputs": [],
   "source": [
    "import math as mt "
   ]
  },
  {
   "cell_type": "markdown",
   "metadata": {},
   "source": [
    "* Con el codigo anterior no solo se a cargado el modulo math, si no que a la hora de usar alguna de sus funciones, podremos usar la sintaxis  mt.funcion() o mt.variable(). En este caso en lugar de poner el nombre del modulo, podemos cambiarle el nombre o, como en este caso, usar la abreviatura mt o la que queramos utilizar.\n",
    "\n",
    "* Por ejemplo si no queremos cargar todo el modulo , si no que simplemente queremos cargar una funcion o una variable, lo podemos hacer de la siguiente forma:"
   ]
  },
  {
   "cell_type": "code",
   "execution_count": 16,
   "metadata": {},
   "outputs": [],
   "source": [
    "from math import pi "
   ]
  },
  {
   "cell_type": "markdown",
   "metadata": {},
   "source": [
    "* La linea de codigo anterior nos permite acceder a la variable pi del modulo math directamente haciendo uso de la sintaxis pi, en vez de tener que usar la sintaxis match.pi\n",
    "\n",
    "* Al igual que podiamos modificar el nombre del modulo cuando lo llamamos, tambien lo podemos hacer con las funciones y las variables "
   ]
  },
  {
   "cell_type": "code",
   "execution_count": 18,
   "metadata": {},
   "outputs": [
    {
     "name": "stdout",
     "output_type": "stream",
     "text": [
      "3.141592653589793\n"
     ]
    }
   ],
   "source": [
    "from math import pi as numero_pi\n",
    "print(numero_pi)"
   ]
  },
  {
   "cell_type": "markdown",
   "metadata": {},
   "source": [
    "* Ahora ya no solo podemos acceder directamente a la variable pi sin necesidad de indicar el modulo del que procede si no que le hemos cambiado el nombre a numero_pi.\n",
    "* Si quisieramos cargar mas de una funcion o variable, pero sin necesidad  "
   ]
  }
 ],
 "metadata": {
  "interpreter": {
   "hash": "98b0a9b7b4eaaa670588a142fd0a9b87eaafe866f1db4228be72b4211d12040f"
  },
  "kernelspec": {
   "display_name": "Python 3.8.5 64-bit ('conda': virtualenv)",
   "name": "python3"
  },
  "language_info": {
   "codemirror_mode": {
    "name": "ipython",
    "version": 3
   },
   "file_extension": ".py",
   "mimetype": "text/x-python",
   "name": "python",
   "nbconvert_exporter": "python",
   "pygments_lexer": "ipython3",
   "version": "3.8.5"
  },
  "metadata": {
   "interpreter": {
    "hash": "98b0a9b7b4eaaa670588a142fd0a9b87eaafe866f1db4228be72b4211d12040f"
   }
  },
  "orig_nbformat": 2
 },
 "nbformat": 4,
 "nbformat_minor": 2
}