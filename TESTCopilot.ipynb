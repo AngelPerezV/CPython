{
    "cells": [
        {
            "cell_type": "code",
            "execution_count": 1,
            "metadata": {},
            "outputs": [
                {
                    "name": "stdout",
                    "output_type": "stream",
                    "text": [
                        "Hello World!\n"
                    ]
                }
            ],
            "source": [
                "# Hello World!  \n",
                "def hello_world():\n",
                "    print(\"Hello World!\")\n",
                "\n",
                "hello_world()"
            ]
        },
        {
            "cell_type": "code",
            "execution_count": 5,
            "metadata": {},
            "outputs": [
                {
                    "name": "stdout",
                    "output_type": "stream",
                    "text": [
                        "05-21-2021\n"
                    ]
                }
            ],
            "source": [
                "new_date = datetime(2021, 5, 21).date().strftime(\"%m-%d-%Y\")\n",
                "print(new_date)"
            ]
        },
        {
            "cell_type": "code",
            "execution_count": 5,
            "metadata": {},
            "outputs": [
                {
                    "name": "stdout",
                    "output_type": "stream",
                    "text": [
                        "hola Mundo Angel\n"
                    ]
                }
            ],
            "source": [
                "def hola(b):\n",
                "    print(f\"hola Mundo {b}\")\n",
                "hola('Angel')"
            ]
        },
        {
            "cell_type": "code",
            "execution_count": null,
            "metadata": {},
            "outputs": [],
            "source": [
                "#last_day   \n",
                " "
            ]
        },
        {
            "cell_type": "code",
            "execution_count": 6,
            "metadata": {},
            "outputs": [
                {
                    "ename": "TypeError",
                    "evalue": "bussiness_days() missing 1 required positional argument: 'df'",
                    "output_type": "error",
                    "traceback": [
                        "\u001b[0;31m---------------------------------------------------------------------------\u001b[0m",
                        "\u001b[0;31mTypeError\u001b[0m                                 Traceback (most recent call last)",
                        "\u001b[0;32m<ipython-input-6-3eba940d76dd>\u001b[0m in \u001b[0;36m<module>\u001b[0;34m\u001b[0m\n\u001b[1;32m      3\u001b[0m     \u001b[0mdf\u001b[0m\u001b[0;34m[\u001b[0m\u001b[0;34m'bussiness_days'\u001b[0m\u001b[0;34m]\u001b[0m \u001b[0;34m=\u001b[0m \u001b[0mdf\u001b[0m\u001b[0;34m[\u001b[0m\u001b[0;34m'date'\u001b[0m\u001b[0;34m]\u001b[0m\u001b[0;34m.\u001b[0m\u001b[0mdt\u001b[0m\u001b[0;34m.\u001b[0m\u001b[0mdayofweek\u001b[0m\u001b[0;34m\u001b[0m\u001b[0;34m\u001b[0m\u001b[0m\n\u001b[1;32m      4\u001b[0m     \u001b[0;32mreturn\u001b[0m \u001b[0mdf\u001b[0m\u001b[0;34m\u001b[0m\u001b[0;34m\u001b[0m\u001b[0m\n\u001b[0;32m----> 5\u001b[0;31m \u001b[0mbussiness_days\u001b[0m\u001b[0;34m(\u001b[0m\u001b[0;34m)\u001b[0m\u001b[0;34m\u001b[0m\u001b[0;34m\u001b[0m\u001b[0m\n\u001b[0m",
                        "\u001b[0;31mTypeError\u001b[0m: bussiness_days() missing 1 required positional argument: 'df'"
                    ]
                }
            ],
            "source": [
                "#calulate bussiness days\n",
                "def bussiness_days(df):\n",
                "    df['bussiness_days'] = df['date'].dt.dayofweek\n",
                "    return df\n",
                "bussiness_days()"
            ]
        },
        {
            "cell_type": "code",
            "execution_count": 1,
            "metadata": {},
            "outputs": [
                {
                    "name": "stdout",
                    "output_type": "stream",
                    "text": [
                        "2021-10-21\n",
                        "2021-09-30\n",
                        "2020-10-01\n",
                        "2020-10-31\n",
                        "2021-09-30\n",
                        "2021-07-01\n",
                        "2021-08-31\n",
                        "2021-10-21\n"
                    ]
                }
            ],
            "source": [
                "from datetime import datetime\n",
                "from datetime import timedelta\n",
                "from dateutil.relativedelta import relativedelta\n",
                "import calendar\n",
                "import time\n",
                "\n",
                "\n",
                "\n",
                "\n",
                "my_date = datetime.today().date()  + timedelta(days=-1)\n",
                "print(my_date)\n",
                "\n",
                "print(my_date.replace(day=1) - timedelta(1))\n",
                "# fisrt date previous month\n",
                "last_month_day = my_date.replace(day=1) - relativedelta(months=12)  \n",
                "print(last_month_day)\n",
                "\n",
                "#the last day of the previous month\n",
                "first_day_last_month = my_date + relativedelta(day=1, months=-11, days=-1)\n",
                "print(first_day_last_month)\n",
                "\n",
                "last_day_pmonth= my_date.replace(day=1) - timedelta(1)\n",
                "print(last_day_pmonth)\n",
                "last_2monthsfday = my_date.replace(day=1) - relativedelta(months=3)\n",
                "print(last_2monthsfday)\n",
                "\n",
                "#last day tow months ago\n",
                "last_day_pmonth= my_date.replace(day=1) - timedelta(31)\n",
                "print(last_day_pmonth)\n",
                "# the last day three months ago \n",
                "\n",
                "#Yestarday\n",
                "my_date = datetime.today().date() \n",
                "yesterday = my_date - timedelta(1)      \n",
                "print(yesterday)"
            ]
        },
        {
            "cell_type": "code",
            "execution_count": 7,
            "metadata": {},
            "outputs": [
                {
                    "name": "stdout",
                    "output_type": "stream",
                    "text": [
                        "2021-07-31\n",
                        "2021-07-01\n"
                    ]
                }
            ],
            "source": [
                "#the last day of the previous month\n",
                "first_day_last_month = my_date + relativedelta(day=1, months=-2, days=-1)\n",
                "print(first_day_last_month)\n",
                "\n",
                "last_2monthsfday = my_date.replace(day=1) - relativedelta(months=3)\n",
                "print(last_2monthsfday)"
            ]
        },
        {
            "cell_type": "code",
            "execution_count": 3,
            "metadata": {},
            "outputs": [
                {
                    "name": "stdout",
                    "output_type": "stream",
                    "text": [
                        "la letra es  A\n",
                        "la letra es  B\n",
                        "la letra es  C\n"
                    ]
                }
            ],
            "source": [
                "list_names = ['A','B','C']\n",
                "for x in list_names:\n",
                "    print (\"la letra es \", x)\n"
            ]
        },
        {
            "cell_type": "code",
            "execution_count": 5,
            "metadata": {},
            "outputs": [
                {
                    "name": "stdout",
                    "output_type": "stream",
                    "text": [
                        "\n",
                        "356 es menor que 500\n"
                    ]
                }
            ],
            "source": [
                "var_x = 356 \n",
                "print()\n",
                "if var_x > 500:\n",
                "    print(f\"{var_x} es mayor que menor que 500\")\n",
                "else:\n",
                "    print(f\"{var_x} es menor que 500\")"
            ]
        },
        {
            "cell_type": "code",
            "execution_count": 6,
            "metadata": {},
            "outputs": [],
            "source": [
                "def suma(a,b):\n",
                "    c= a+b\n",
                "    return c "
            ]
        },
        {
            "cell_type": "code",
            "execution_count": 7,
            "metadata": {},
            "outputs": [
                {
                    "data": {
                        "text/plain": [
                            "13"
                        ]
                    },
                    "execution_count": 7,
                    "metadata": {},
                    "output_type": "execute_result"
                }
            ],
            "source": [
                "suma(5,8)"
            ]
        },
        {
            "cell_type": "code",
            "execution_count": 30,
            "metadata": {},
            "outputs": [
                {
                    "name": "stdout",
                    "output_type": "stream",
                    "text": [
                        "10\n"
                    ]
                }
            ],
            "source": [
                "lista_values = [2,2,2,2,2]\n",
                "suma_values = 0\n",
                "def suma(lista_values):\n",
                "     global suma_values \n",
                "     for i in lista_values:   \n",
                "         suma_values += i     \n",
                "     return suma_values\n",
                "print(suma(lista_values))\n",
                "\n"
            ]
        },
        {
            "cell_type": "code",
            "execution_count": 31,
            "metadata": {},
            "outputs": [
                {
                    "data": {
                        "text/plain": [
                            "20"
                        ]
                    },
                    "execution_count": 31,
                    "metadata": {},
                    "output_type": "execute_result"
                }
            ],
            "source": [
                "x= suma(lista_values)\n",
                "x"
            ]
        },
        {
            "cell_type": "code",
            "execution_count": 15,
            "metadata": {},
            "outputs": [
                {
                    "name": "stdout",
                    "output_type": "stream",
                    "text": [
                        "98.0\n"
                    ]
                }
            ],
            "source": [
                "notas = [0, 0, 9.0, 8.0, 5.0, 10.0, 7.0, 7.5, 4.0, 10.0, 7.0, 7.0, 8.0, 8.0, 7.5]\n",
                "suma_de_notas = 0\n",
                "#suma de notas\n",
                "for nota in notas:  \n",
                "    suma_de_notas += nota    \n",
                "def \n",
                "for nota in notas:\n",
                "    suma_de_notas  += nota\n",
                "\n",
                "print(suma_de_notas)"
            ]
        },
        {
            "cell_type": "code",
            "execution_count": 3,
            "metadata": {},
            "outputs": [
                {
                    "ename": "TypeError",
                    "evalue": "float() argument must be a string or a number, not 'list'",
                    "output_type": "error",
                    "traceback": [
                        "\u001b[0;31m---------------------------------------------------------------------------\u001b[0m",
                        "\u001b[0;31mTypeError\u001b[0m                                 Traceback (most recent call last)",
                        "\u001b[0;32m<ipython-input-3-df91ed2ca0a9>\u001b[0m in \u001b[0;36m<module>\u001b[0;34m\u001b[0m\n\u001b[1;32m      2\u001b[0m \u001b[0mconverter\u001b[0m \u001b[0;34m=\u001b[0m \u001b[0;32mlambda\u001b[0m \u001b[0mx\u001b[0m\u001b[0;34m:\u001b[0m \u001b[0mfloat\u001b[0m\u001b[0;34m(\u001b[0m\u001b[0mx\u001b[0m\u001b[0;34m)\u001b[0m\u001b[0;34m\u001b[0m\u001b[0;34m\u001b[0m\u001b[0m\n\u001b[1;32m      3\u001b[0m \u001b[0mx\u001b[0m \u001b[0;34m=\u001b[0m \u001b[0;34m[\u001b[0m\u001b[0;36m1\u001b[0m\u001b[0;34m,\u001b[0m\u001b[0;36m2\u001b[0m\u001b[0;34m,\u001b[0m\u001b[0;36m3\u001b[0m\u001b[0;34m,\u001b[0m\u001b[0;36m4\u001b[0m\u001b[0;34m,\u001b[0m\u001b[0;36m5\u001b[0m\u001b[0;34m,\u001b[0m\u001b[0;36m6\u001b[0m\u001b[0;34m,\u001b[0m\u001b[0;36m7\u001b[0m\u001b[0;34m,\u001b[0m\u001b[0;36m8\u001b[0m\u001b[0;34m,\u001b[0m\u001b[0;36m9\u001b[0m\u001b[0;34m,\u001b[0m\u001b[0;36m10\u001b[0m\u001b[0;34m]\u001b[0m\u001b[0;34m\u001b[0m\u001b[0;34m\u001b[0m\u001b[0m\n\u001b[0;32m----> 4\u001b[0;31m \u001b[0mprint\u001b[0m\u001b[0;34m(\u001b[0m\u001b[0mconverter\u001b[0m\u001b[0;34m(\u001b[0m\u001b[0mx\u001b[0m\u001b[0;34m)\u001b[0m\u001b[0;34m)\u001b[0m\u001b[0;34m\u001b[0m\u001b[0;34m\u001b[0m\u001b[0m\n\u001b[0m",
                        "\u001b[0;32m<ipython-input-3-df91ed2ca0a9>\u001b[0m in \u001b[0;36m<lambda>\u001b[0;34m(x)\u001b[0m\n\u001b[1;32m      1\u001b[0m \u001b[0;31m# create lambda fucntion for converting a string to a float\u001b[0m\u001b[0;34m\u001b[0m\u001b[0;34m\u001b[0m\u001b[0;34m\u001b[0m\u001b[0m\n\u001b[0;32m----> 2\u001b[0;31m \u001b[0mconverter\u001b[0m \u001b[0;34m=\u001b[0m \u001b[0;32mlambda\u001b[0m \u001b[0mx\u001b[0m\u001b[0;34m:\u001b[0m \u001b[0mfloat\u001b[0m\u001b[0;34m(\u001b[0m\u001b[0mx\u001b[0m\u001b[0;34m)\u001b[0m\u001b[0;34m\u001b[0m\u001b[0;34m\u001b[0m\u001b[0m\n\u001b[0m\u001b[1;32m      3\u001b[0m \u001b[0mx\u001b[0m \u001b[0;34m=\u001b[0m \u001b[0;34m[\u001b[0m\u001b[0;36m1\u001b[0m\u001b[0;34m,\u001b[0m\u001b[0;36m2\u001b[0m\u001b[0;34m,\u001b[0m\u001b[0;36m3\u001b[0m\u001b[0;34m,\u001b[0m\u001b[0;36m4\u001b[0m\u001b[0;34m,\u001b[0m\u001b[0;36m5\u001b[0m\u001b[0;34m,\u001b[0m\u001b[0;36m6\u001b[0m\u001b[0;34m,\u001b[0m\u001b[0;36m7\u001b[0m\u001b[0;34m,\u001b[0m\u001b[0;36m8\u001b[0m\u001b[0;34m,\u001b[0m\u001b[0;36m9\u001b[0m\u001b[0;34m,\u001b[0m\u001b[0;36m10\u001b[0m\u001b[0;34m]\u001b[0m\u001b[0;34m\u001b[0m\u001b[0;34m\u001b[0m\u001b[0m\n\u001b[1;32m      4\u001b[0m \u001b[0mprint\u001b[0m\u001b[0;34m(\u001b[0m\u001b[0mconverter\u001b[0m\u001b[0;34m(\u001b[0m\u001b[0mx\u001b[0m\u001b[0;34m)\u001b[0m\u001b[0;34m)\u001b[0m\u001b[0;34m\u001b[0m\u001b[0;34m\u001b[0m\u001b[0m\n",
                        "\u001b[0;31mTypeError\u001b[0m: float() argument must be a string or a number, not 'list'"
                    ]
                }
            ],
            "source": [
                "# create lambda fucntion for converting a string to a float\n",
                "converter = lambda x: float(x)"
            ]
        },
        {
            "cell_type": "code",
            "execution_count": 8,
            "metadata": {},
            "outputs": [
                {
                    "name": "stdout",
                    "output_type": "stream",
                    "text": [
                        "Defaulting to user installation because normal site-packages is not writeable\n",
                        "Requirement already satisfied: pandas in /home/codespace/.local/lib/python3.8/site-packages (1.3.1)\n",
                        "Requirement already satisfied: python-dateutil>=2.7.3 in /home/codespace/.local/lib/python3.8/site-packages (from pandas) (2.8.1)\n",
                        "Requirement already satisfied: numpy>=1.17.3 in /home/codespace/.local/lib/python3.8/site-packages (from pandas) (1.21.1)\n",
                        "Requirement already satisfied: pytz>=2017.3 in /home/codespace/.local/lib/python3.8/site-packages (from pandas) (2021.1)\n",
                        "Requirement already satisfied: six>=1.5 in /home/codespace/.local/lib/python3.8/site-packages (from python-dateutil>=2.7.3->pandas) (1.16.0)\n",
                        "Note: you may need to restart the kernel to use updated packages.\n"
                    ]
                }
            ],
            "source": [
                "pip install pandas"
            ]
        },
        {
            "cell_type": "code",
            "execution_count": 6,
            "metadata": {},
            "outputs": [
                {
                    "name": "stdout",
                    "output_type": "stream",
                    "text": [
                        "Defaulting to user installation because normal site-packages is not writeable\n",
                        "Requirement already satisfied: pip in /home/codespace/.local/lib/python3.8/site-packages (21.1.3)\n",
                        "Collecting pip\n",
                        "  Downloading pip-21.2.4-py3-none-any.whl (1.6 MB)\n",
                        "\u001b[K     |████████████████████████████████| 1.6 MB 7.7 MB/s \n",
                        "\u001b[?25hInstalling collected packages: pip\n",
                        "  Attempting uninstall: pip\n",
                        "    Found existing installation: pip 21.1.3\n",
                        "    Uninstalling pip-21.1.3:\n",
                        "      Successfully uninstalled pip-21.1.3\n",
                        "\u001b[33m  WARNING: The scripts pip, pip3 and pip3.8 are installed in '/home/codespace/.local/bin' which is not on PATH.\n",
                        "  Consider adding this directory to PATH or, if you prefer to suppress this warning, use --no-warn-script-location.\u001b[0m\n",
                        "Successfully installed pip-21.2.4\n",
                        "Note: you may need to restart the kernel to use updated packages.\n"
                    ]
                }
            ],
            "source": [
                "pip3 install --upgrade pip3"
            ]
        },
        {
            "cell_type": "code",
            "execution_count": 12,
            "metadata": {},
            "outputs": [
                {
                    "ename": "SyntaxError",
                    "evalue": "invalid syntax (<ipython-input-12-83358da30272>, line 1)",
                    "output_type": "error",
                    "traceback": [
                        "\u001b[0;36m  File \u001b[0;32m\"<ipython-input-12-83358da30272>\"\u001b[0;36m, line \u001b[0;32m1\u001b[0m\n\u001b[0;31m    pip3 install pandas\u001b[0m\n\u001b[0m         ^\u001b[0m\n\u001b[0;31mSyntaxError\u001b[0m\u001b[0;31m:\u001b[0m invalid syntax\n"
                    ]
                }
            ],
            "source": [
                "pip3 install pandas"
            ]
        },
        {
            "cell_type": "code",
            "execution_count": 1,
            "metadata": {},
            "outputs": [],
            "source": [
                "from functools import reduce\n",
                "import pandas as pd\n",
                "import numpy as np\n",
                "\n"
            ]
        },
        {
            "cell_type": "code",
            "execution_count": null,
            "metadata": {},
            "outputs": [],
            "source": [
                "# Export excel more one sheet\n",
                "def export_excel(df, file_name):\n",
                "    writer = pd.ExcelWriter(file_name)\n",
                "    df.to_excel(writer, 'Sheet1')\n",
                "    writer.save()\n"
            ]
        },
        {
            "cell_type": "code",
            "execution_count": 1,
            "metadata": {},
            "outputs": [
                {
                    "ename": "ModuleNotFoundError",
                    "evalue": "No module named 'cryptography'",
                    "output_type": "error",
                    "traceback": [
                        "\u001b[0;31m---------------------------------------------------------------------------\u001b[0m",
                        "\u001b[0;31mModuleNotFoundError\u001b[0m                       Traceback (most recent call last)",
                        "\u001b[0;32m<ipython-input-1-e286777b9296>\u001b[0m in \u001b[0;36m<module>\u001b[0;34m\u001b[0m\n\u001b[1;32m      1\u001b[0m \u001b[0;31m#cryptography a package for encrypting and decrypting files\u001b[0m\u001b[0;34m\u001b[0m\u001b[0;34m\u001b[0m\u001b[0;34m\u001b[0m\u001b[0m\n\u001b[0;32m----> 2\u001b[0;31m \u001b[0;32mfrom\u001b[0m \u001b[0mcryptography\u001b[0m\u001b[0;34m.\u001b[0m\u001b[0mfernet\u001b[0m \u001b[0;32mimport\u001b[0m \u001b[0mFernet\u001b[0m\u001b[0;34m\u001b[0m\u001b[0;34m\u001b[0m\u001b[0m\n\u001b[0m\u001b[1;32m      3\u001b[0m \u001b[0;32mdef\u001b[0m \u001b[0mencrypt\u001b[0m\u001b[0;34m(\u001b[0m\u001b[0mkey\u001b[0m\u001b[0;34m,\u001b[0m \u001b[0mfilename\u001b[0m\u001b[0;34m)\u001b[0m\u001b[0;34m:\u001b[0m\u001b[0;34m\u001b[0m\u001b[0;34m\u001b[0m\u001b[0m\n\u001b[1;32m      4\u001b[0m     \u001b[0;31m# open file to be encrypted\u001b[0m\u001b[0;34m\u001b[0m\u001b[0;34m\u001b[0m\u001b[0;34m\u001b[0m\u001b[0m\n\u001b[1;32m      5\u001b[0m     \u001b[0mfile\u001b[0m \u001b[0;34m=\u001b[0m \u001b[0mopen\u001b[0m\u001b[0;34m(\u001b[0m\u001b[0mfilename\u001b[0m\u001b[0;34m,\u001b[0m \u001b[0;34m'rb'\u001b[0m\u001b[0;34m)\u001b[0m\u001b[0;34m\u001b[0m\u001b[0;34m\u001b[0m\u001b[0m\n",
                        "\u001b[0;31mModuleNotFoundError\u001b[0m: No module named 'cryptography'"
                    ]
                }
            ],
            "source": [
                "#cryptography a package for encrypting and decrypting files\n",
                "from cryptography.fernet import Fernet\n",
                "def encrypt(key, filename):\n",
                "    # open file to be encrypted\n",
                "    file = open(filename, 'rb')\n",
                "    # read contents of file\n",
                "    data = file.read()\n",
                "    # encode the data so it can be encrypted\n",
                "    data = data.encode('utf-8')\n",
                "    # close file\n",
                "    file.close()\n",
                "    # generate a cipher using the key\n",
                "    cipher = Fernet(key)\n",
                "    # encrypt the data\n",
                "    encrypted = cipher.encrypt(data)\n",
                "    # return the encrypted data\n",
                "    return encrypted\n",
                "\n"
            ]
        }
    ],
    "metadata": {
        "interpreter": {
            "hash": "d4d1e4263499bec80672ea0156c357c1ee493ec2b1c70f0acce89fc37c4a6abe"
        },
        "kernelspec": {
            "display_name": "Python 3.8.5 64-bit ('base': conda)",
            "name": "python3"
        },
        "language_info": {
            "codemirror_mode": {
                "name": "ipython",
                "version": 3
            },
            "file_extension": ".py",
            "mimetype": "text/x-python",
            "name": "python",
            "nbconvert_exporter": "python",
            "pygments_lexer": "ipython3",
            "version": "3.8.5"
        },
        "orig_nbformat": 4
    },
    "nbformat": 4,
    "nbformat_minor": 2
}
